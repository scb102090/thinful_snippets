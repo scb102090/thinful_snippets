{
 "cells": [
  {
   "cell_type": "code",
   "execution_count": 1,
   "metadata": {
    "collapsed": true
   },
   "outputs": [],
   "source": [
    "class Node:\n",
    "    def __init__(self, val):\n",
    "        self.left = None\n",
    "        self.right = None\n",
    "        self.val = val"
   ]
  },
  {
   "cell_type": "code",
   "execution_count": 3,
   "metadata": {},
   "outputs": [],
   "source": [
    "# Establish the initial root node and children\n",
    "root = Node('A')\n",
    "root.left = Node('B')\n",
    "root.right = Node('C')\n",
    "\n",
    "# Add the appropriate children for ‘B’ and ‘C’\n",
    "root.left.left = Node('D')\n",
    "root.left.right = Node('E')\n",
    "root.right.left = Node('F')\n",
    "root.right.right = Node('G')"
   ]
  },
  {
   "cell_type": "markdown",
   "metadata": {},
   "source": [
    "## Drill"
   ]
  },
  {
   "cell_type": "code",
   "execution_count": 16,
   "metadata": {
    "collapsed": true
   },
   "outputs": [],
   "source": [
    "class Node:\n",
    "    def __init__(self, key):\n",
    "        self.data = key\n",
    "        self.left = None\n",
    "        self.right = None\n",
    "       "
   ]
  },
  {
   "cell_type": "code",
   "execution_count": 17,
   "metadata": {
    "collapsed": true
   },
   "outputs": [],
   "source": [
    "# Height of binary tree.\n",
    "def binary_tree(root):\n",
    "    # Base.\n",
    "    if root is None:\n",
    "        return\n",
    "     \n",
    "    # Create an empty queue for level order traversal.\n",
    "    queue = []\n",
    " \n",
    "    # Enqueue root and initialize height.\n",
    "    queue.append(root)\n",
    " \n",
    "    while(len(queue) > 0):\n",
    "        # Print front of queue and remove it from queue\n",
    "        print (queue[0].data,)\n",
    "        node = queue.pop(0)\n",
    " \n",
    "        #Enqueue left child.\n",
    "        if node.left is not None:\n",
    "            queue.append(node.left)\n",
    " \n",
    "        # Enqueue right child.\n",
    "        if node.right is not None:\n",
    "            queue.append(node.right)\n"
   ]
  },
  {
   "cell_type": "code",
   "execution_count": 18,
   "metadata": {},
   "outputs": [],
   "source": [
    "# Test\n",
    "root = Node(1)\n",
    "root.left = Node(2)\n",
    "root.right = Node(3)\n",
    "root.left.left = Node(4)\n",
    "root.left.right = Node(5)\n",
    "root.right.left = Node(6)\n",
    "root.right.right = Node(7)\n",
    "root.left.left.left = Node(8)\n",
    "root.left.left.right = Node(9)\n",
    "root.left.right.left = Node(10)\n",
    "root.left.right.right = Node(11)\n",
    "root.right.left.left = Node(12)\n",
    "root.right.left.right = Node(13)\n",
    "root.right.right.left = Node(14)\n",
    "root.right.right.right = Node(15)\n",
    " \n",
    "# print (\"Breadth first traversal:\")\n",
    "# binary_tree(root)"
   ]
  },
  {
   "cell_type": "code",
   "execution_count": 19,
   "metadata": {},
   "outputs": [
    {
     "name": "stdout",
     "output_type": "stream",
     "text": [
      "Breadth first traversal:\n",
      "1\n",
      "2\n",
      "3\n",
      "4\n",
      "5\n",
      "6\n",
      "7\n",
      "8\n",
      "9\n",
      "10\n",
      "11\n",
      "12\n",
      "13\n",
      "14\n",
      "15\n"
     ]
    }
   ],
   "source": [
    "print (\"Breadth first traversal:\")\n",
    "binary_tree(root)"
   ]
  },
  {
   "cell_type": "code",
   "execution_count": null,
   "metadata": {
    "collapsed": true
   },
   "outputs": [],
   "source": []
  }
 ],
 "metadata": {
  "kernelspec": {
   "display_name": "Python 3",
   "language": "python",
   "name": "python3"
  },
  "language_info": {
   "codemirror_mode": {
    "name": "ipython",
    "version": 3
   },
   "file_extension": ".py",
   "mimetype": "text/x-python",
   "name": "python",
   "nbconvert_exporter": "python",
   "pygments_lexer": "ipython3",
   "version": "3.6.1"
  }
 },
 "nbformat": 4,
 "nbformat_minor": 2
}
