{
 "cells": [
  {
   "cell_type": "code",
   "execution_count": 1,
   "metadata": {
    "collapsed": true
   },
   "outputs": [],
   "source": [
    "import pandas as pd\n",
    "import numpy as np\n",
    "import matplotlib.pyplot as plt\n",
    "import scipy as sp\n",
    "# import seaborn as sns\n",
    "import re\n",
    "import nltk\n",
    "from sklearn import ensemble\n",
    "from nltk.corpus import PlaintextCorpusReader\n",
    "from nltk.corpus import gutenberg, stopwords\n",
    "import string\n",
    "from sklearn.model_selection import train_test_split\n",
    "from sklearn.cluster import MeanShift, estimate_bandwidth\n",
    "from sklearn import metrics\n",
    "from sklearn.decomposition import TruncatedSVD\n",
    "from sklearn.pipeline import make_pipeline\n",
    "from sklearn.preprocessing import Normalizer\n",
    "from nltk.tokenize import word_tokenize\n",
    "from collections import Counter\n",
    "from nltk.stem.wordnet import WordNetLemmatizer\n",
    "import string\n",
    "from sklearn.feature_extraction.text import TfidfVectorizer\n",
    "from sklearn.feature_extraction.text import TfidfVectorizer\n",
    "from sklearn.decomposition import TruncatedSVD\n",
    "from sklearn.cluster import KMeans\n",
    "lmtzr= WordNetLemmatizer()\n",
    "from sklearn.cluster import AffinityPropagation\n",
    "from sklearn.cluster import MiniBatchKMeans\n",
    "from sklearn.cluster import SpectralClustering\n",
    "%matplotlib inline"
   ]
  },
  {
   "cell_type": "markdown",
   "metadata": {},
   "source": [
    "## The CORPSE (corpus*)"
   ]
  },
  {
   "cell_type": "markdown",
   "metadata": {},
   "source": [
    "For this capstone I am going to use the gutenberg corpus, as I know it has enough entries and authors to work with. I am choosing 10 texts from the corpus.\n",
    "Also, I am familiar with it from the lessons, which lends itself to additional exploratory work and feature generation. \n"
   ]
  },
  {
   "cell_type": "code",
   "execution_count": 2,
   "metadata": {
    "collapsed": true
   },
   "outputs": [],
   "source": [
    "my_stopwords = stopwords.words('english')"
   ]
  },
  {
   "cell_type": "code",
   "execution_count": 4,
   "metadata": {
    "scrolled": true
   },
   "outputs": [
    {
     "name": "stdout",
     "output_type": "stream",
     "text": [
      "887071 192427 7752 7344 austen-emma.txt\n",
      "466292 98171 3747 5835 austen-persuasion.txt\n",
      "673022 141576 4999 6403 austen-sense.txt\n",
      "4332554 1010654 30103 12767 bible-kjv.txt\n",
      "38153 8354 438 1535 blake-poems.txt\n",
      "249439 55563 2863 3940 bryant-stories.txt\n",
      "84663 18963 1054 1559 burgess-busterbrown.txt\n",
      "144395 34110 1703 2636 carroll-alice.txt\n",
      "457450 96996 4779 8335 chesterton-ball.txt\n",
      "406629 86063 3806 7794 chesterton-brown.txt\n",
      "320525 69213 3742 6349 chesterton-thursday.txt\n",
      "935158 210663 10230 8447 edgeworth-parents.txt\n",
      "1242990 260819 10059 17231 melville-moby_dick.txt\n",
      "468220 96825 1851 9021 milton-paradise.txt\n",
      "112310 25833 2163 3032 shakespeare-caesar.txt\n",
      "162881 37360 3106 4716 shakespeare-hamlet.txt\n",
      "100351 23140 1907 3464 shakespeare-macbeth.txt\n",
      "711215 154883 4250 12452 whitman-leaves.txt\n"
     ]
    }
   ],
   "source": [
    "for fileid in gutenberg.fileids():\n",
    "    num_chars = len(gutenberg.raw(fileid))\n",
    "    num_words = len(gutenberg.words(fileid))\n",
    "    num_sents = len(gutenberg.sents(fileid))\n",
    "    num_vocab = len(set(w.lower() for w in gutenberg.words(fileid)))\n",
    "    print(num_chars,num_words,num_sents,num_vocab, fileid)"
   ]
  },
  {
   "cell_type": "markdown",
   "metadata": {},
   "source": [
    "OK, I only am going to use 10 pieces of text (by ten authors). I am going to leave out melville and the bible as these are much longer texts. For the authors with multiple texts, I will choose one. Per the unsupervised lession I am going to load the texts in by paragraphs. I also am going to go ahead and apply the text cleaner when i store the texts into their designated variables"
   ]
  },
  {
   "cell_type": "markdown",
   "metadata": {},
   "source": [
    "## Cleaning and parsing"
   ]
  },
  {
   "cell_type": "code",
   "execution_count": 78,
   "metadata": {
    "collapsed": true
   },
   "outputs": [],
   "source": [
    "import string\n",
    "my_stopwords = stopwords.words('english')"
   ]
  },
  {
   "cell_type": "code",
   "execution_count": 79,
   "metadata": {
    "collapsed": true
   },
   "outputs": [],
   "source": [
    "def text_cleaner(text):\n",
    "    text = re.sub(r'--',' ',text)\n",
    "    text = re.sub(r\"'\",' ',text)\n",
    "    text = re.sub(r'\"',' ',text)\n",
    "    text = re.sub(\"[\\[].*?[\\]]\", ' ', text)\n",
    "    text = ' '.join(text.split()).lower()\n",
    "    \n",
    "    return text"
   ]
  },
  {
   "cell_type": "code",
   "execution_count": 80,
   "metadata": {
    "collapsed": true
   },
   "outputs": [],
   "source": [
    "text_list =['austen-persuasion.txt','blake-poems.txt','bryant-stories.txt','burgess-busterbrown.txt',\\\n",
    "            'carroll-alice.txt','chesterton-thursday.txt','edgeworth-parents.txt','shakespeare-caesar.txt',\\\n",
    "            'milton-paradise.txt','whitman-leaves.txt']"
   ]
  },
  {
   "cell_type": "code",
   "execution_count": 81,
   "metadata": {
    "collapsed": true
   },
   "outputs": [],
   "source": [
    "author_list=[]\n",
    "for text in text_list: \n",
    "    author = text.split('-')[0]\n",
    "    author_list.append(author)"
   ]
  },
  {
   "cell_type": "code",
   "execution_count": 82,
   "metadata": {},
   "outputs": [
    {
     "data": {
      "text/plain": [
       "['austen',\n",
       " 'blake',\n",
       " 'bryant',\n",
       " 'burgess',\n",
       " 'carroll',\n",
       " 'chesterton',\n",
       " 'edgeworth',\n",
       " 'shakespeare',\n",
       " 'milton',\n",
       " 'whitman']"
      ]
     },
     "execution_count": 82,
     "metadata": {},
     "output_type": "execute_result"
    }
   ],
   "source": [
    "author_list"
   ]
  },
  {
   "cell_type": "code",
   "execution_count": 83,
   "metadata": {
    "collapsed": true
   },
   "outputs": [],
   "source": [
    "books = []\n",
    "for i in range(len(text_list)):\n",
    "    file_name = text_list[i]\n",
    "    books_of_paragraphs = gutenberg.paras(file_name)\n",
    "    clean_paragraph = []\n",
    "    for paragraph in books_of_paragraphs:\n",
    "        \n",
    "        para = paragraph[0]\n",
    "        sentence_as_string = ' '.join(para)\n",
    "        sentence_as_string = text_cleaner(sentence_as_string).lower()\n",
    "\n",
    "        clean_paragraph.append(sentence_as_string)\n",
    "    books.append(clean_paragraph)\n"
   ]
  },
  {
   "cell_type": "code",
   "execution_count": 12,
   "metadata": {
    "collapsed": true
   },
   "outputs": [],
   "source": [
    "def all_the_good_stuff(tokenized_texts, include_stop=False):\n",
    "    new_txt=[]\n",
    "    for paragraph in tokenized_texts: \n",
    "        list_of_tokens = word_tokenize(paragraph)\n",
    "        processed_texts = []\n",
    "        for token in list_of_tokens: \n",
    "            if (token not in my_stopwords or include_stop) and (token not in string.punctuation): \n",
    "                processed_texts.append(token)\n",
    "               \n",
    "        if len(processed_texts) > 3:\n",
    "            new_txt.append(\" \".join(processed_texts))\n",
    "    return new_txt"
   ]
  },
  {
   "cell_type": "code",
   "execution_count": 13,
   "metadata": {
    "collapsed": true
   },
   "outputs": [],
   "source": [
    "df = pd.DataFrame()\n",
    "for book, author in zip(books, author_list):\n",
    "\n",
    "    book = all_the_good_stuff(book, include_stop = False)\n",
    "    book = [[paragraph, author] for paragraph in book]\n",
    "    book = pd.DataFrame(book, columns = ['text','author'])\n",
    "    df = df.append(book, ignore_index = True)"
   ]
  },
  {
   "cell_type": "code",
   "execution_count": 84,
   "metadata": {},
   "outputs": [
    {
     "data": {
      "text/html": [
       "<div>\n",
       "<style>\n",
       "    .dataframe thead tr:only-child th {\n",
       "        text-align: right;\n",
       "    }\n",
       "\n",
       "    .dataframe thead th {\n",
       "        text-align: left;\n",
       "    }\n",
       "\n",
       "    .dataframe tbody tr th {\n",
       "        vertical-align: top;\n",
       "    }\n",
       "</style>\n",
       "<table border=\"1\" class=\"dataframe\">\n",
       "  <thead>\n",
       "    <tr style=\"text-align: right;\">\n",
       "      <th></th>\n",
       "      <th>text</th>\n",
       "      <th>author</th>\n",
       "    </tr>\n",
       "  </thead>\n",
       "  <tbody>\n",
       "    <tr>\n",
       "      <th>0</th>\n",
       "      <td>sir walter elliot kellynch hall somersetshire ...</td>\n",
       "      <td>austen</td>\n",
       "    </tr>\n",
       "    <tr>\n",
       "      <th>1</th>\n",
       "      <td>walter elliot born march 1 1760 married july 1...</td>\n",
       "      <td>austen</td>\n",
       "    </tr>\n",
       "    <tr>\n",
       "      <th>2</th>\n",
       "      <td>precisely paragraph originally stood printer h...</td>\n",
       "      <td>austen</td>\n",
       "    </tr>\n",
       "    <tr>\n",
       "      <th>3</th>\n",
       "      <td>followed history rise ancient respectable fami...</td>\n",
       "      <td>austen</td>\n",
       "    </tr>\n",
       "    <tr>\n",
       "      <th>4</th>\n",
       "      <td>heir presumptive william walter elliot esq gre...</td>\n",
       "      <td>austen</td>\n",
       "    </tr>\n",
       "  </tbody>\n",
       "</table>\n",
       "</div>"
      ],
      "text/plain": [
       "                                                text  author\n",
       "0  sir walter elliot kellynch hall somersetshire ...  austen\n",
       "1  walter elliot born march 1 1760 married july 1...  austen\n",
       "2  precisely paragraph originally stood printer h...  austen\n",
       "3  followed history rise ancient respectable fami...  austen\n",
       "4  heir presumptive william walter elliot esq gre...  austen"
      ]
     },
     "execution_count": 84,
     "metadata": {},
     "output_type": "execute_result"
    }
   ],
   "source": [
    "df.head()"
   ]
  },
  {
   "cell_type": "code",
   "execution_count": 16,
   "metadata": {},
   "outputs": [
    {
     "data": {
      "text/plain": [
       "(7839, 2)"
      ]
     },
     "execution_count": 16,
     "metadata": {},
     "output_type": "execute_result"
    }
   ],
   "source": [
    "df.shape"
   ]
  },
  {
   "cell_type": "code",
   "execution_count": 17,
   "metadata": {},
   "outputs": [
    {
     "data": {
      "text/plain": [
       "edgeworth      2347\n",
       "whitman        1856\n",
       "chesterton      942\n",
       "bryant          897\n",
       "austen          757\n",
       "carroll         557\n",
       "blake           206\n",
       "burgess         189\n",
       "shakespeare      73\n",
       "milton           15\n",
       "Name: author, dtype: int64"
      ]
     },
     "execution_count": 17,
     "metadata": {},
     "output_type": "execute_result"
    }
   ],
   "source": [
    "df.author.value_counts()"
   ]
  },
  {
   "cell_type": "markdown",
   "metadata": {},
   "source": [
    "edgeworth text comprises about 28% of all sentences in my data frame. I need to keep this in mind, as ideally I would want to have a similar number of paragraphs for each author."
   ]
  },
  {
   "cell_type": "markdown",
   "metadata": {
    "collapsed": true
   },
   "source": [
    "# Cluster time!\n",
    "\n",
    "\n",
    "## Let's start by vectorizing"
   ]
  },
  {
   "cell_type": "code",
   "execution_count": 165,
   "metadata": {},
   "outputs": [
    {
     "name": "stdout",
     "output_type": "stream",
     "text": [
      "Number of features: 3130\n"
     ]
    }
   ],
   "source": [
    "X = df['text']\n",
    "Y = df['author']\n",
    "\n",
    "X_train, X_test = train_test_split(X, test_size=0.25, random_state=12)\n",
    "\n",
    "vectorizer = TfidfVectorizer(max_df=0.6, # drop words that occur in more than 60% of paragraphs\n",
    "                             min_df=6, # only use words that appear at lea|st 3x\n",
    "                             stop_words='english', # mostly redundant, but it's ok \n",
    "                             lowercase=True, #convert everything to lower case (since Alice in Wonderland has the HABIT of CAPITALIZING WORDS for EMPHASIS)\n",
    "                             use_idf=True,#we d||efinitely want to use inverse document frequencies in our weighting\n",
    "                             norm=u'l2', #Starting with L2 regularization\n",
    "                             smooth_idf=True #Prevents divide-by-zero errors\n",
    "                            )\n",
    "\n",
    "#Applying the vectorizer\n",
    "para_tfidf = vectorizer.fit_transform(X)\n",
    "print(\"Number of features: %d\" % para_tfidf.get_shape()[1])\n",
    "\n",
    "#splitting into training and test sets. Reserving 25% of my corpus as a test set.\n",
    "X_train_tfidf, X_test_tfidf, Y_train, Y_test = train_test_split(para_tfidf, \n",
    "                                                                Y,\n",
    "                                                                test_size=0.25,\n",
    "                                                                random_state=12)"
   ]
  },
  {
   "cell_type": "markdown",
   "metadata": {
    "collapsed": true
   },
   "source": [
    "let's reduce the number of features to the most valuable components.I will try to find the best number of compoentns for SVD using a for loop"
   ]
  },
  {
   "cell_type": "code",
   "execution_count": 146,
   "metadata": {},
   "outputs": [],
   "source": [
    "# for i in range(200, 3000, 200):\n",
    "#     svd= TruncatedSVD(i)\n",
    "#     lsa = make_pipeline(svd, Normalizer(copy=False))\n",
    "#     # Run SVD on the training data, then project the training data.\n",
    "#     X_train_lsa = lsa.fit_transform(X_train_tfidf)\n",
    "\n",
    "#     variance_explained=svd.explained_variance_ratio_\n",
    "#     total_variance = variance_explained.sum()\n",
    "#     print(i)\n",
    "#     print(\"Percent variance captured by all components:\",total_variance*100)"
   ]
  },
  {
   "cell_type": "markdown",
   "metadata": {
    "collapsed": true
   },
   "source": [
    "I have a feeling that using more componentws will slow down the runining time, so I am going to choose less components than ideal, with the understanding that i will be forgoing variance expained for limiting them. "
   ]
  },
  {
   "cell_type": "code",
   "execution_count": 166,
   "metadata": {},
   "outputs": [
    {
     "name": "stdout",
     "output_type": "stream",
     "text": [
      "Percent variance captured by all components: 21.8828553433\n"
     ]
    }
   ],
   "source": [
    "svd= TruncatedSVD(100)\n",
    "lsa = make_pipeline(svd, Normalizer(copy=False))\n",
    "# Run SVD on the training data, then project the training data.\n",
    "X_train_lsa = lsa.fit_transform(X_train_tfidf)\n",
    "#creating test lsa group for later\n",
    "X_test_lsa = lsa.transform(X_test_tfidf)\n",
    "\n",
    "variance_explained=svd.explained_variance_ratio_\n",
    "total_variance = variance_explained.sum()\n",
    "print(\"Percent variance captured by all components:\",total_variance*100)"
   ]
  },
  {
   "cell_type": "markdown",
   "metadata": {
    "collapsed": true
   },
   "source": [
    "## Now lets cluster\n",
    "\n",
    "The good news here is that we do have a ground truth (who the authors of each paragraph are), so there are a few evalaution techniques that we can employ.\n",
    "\n",
    "### K-means\n",
    "going to start with using 10 clusters, as I have 10 authors in the corpus."
   ]
  },
  {
   "cell_type": "code",
   "execution_count": 108,
   "metadata": {
    "collapsed": true
   },
   "outputs": [],
   "source": [
    "k_mean = KMeans(n_clusters=10, random_state=12)\n",
    "k_mean.fit(X_train_lsa)\n",
    "Y_pred = k_mean.predict(X_train_lsa)"
   ]
  },
  {
   "cell_type": "code",
   "execution_count": 109,
   "metadata": {},
   "outputs": [
    {
     "name": "stdout",
     "output_type": "stream",
     "text": [
      "col_0          0    1    2    3    4   5   6    7    8    9\n",
      "row_0                                                      \n",
      "austen        40  385    7    7   16  24  24   52    0   20\n",
      "blake          4   58   21   60    5   3   1    0    0   14\n",
      "bryant       100  281   14   40   33  31  23    0    0  171\n",
      "burgess        8   79    0    0    7   5   3    3    0   43\n",
      "carroll      140  148    4    8   33  26   7    0    0   35\n",
      "chesterton   147  254    6   36   23  13  12    4  194   17\n",
      "edgeworth    327  851   31   40  119  61  91  123    0   87\n",
      "milton         0    4    2    5    0   0   0    0    0    0\n",
      "shakespeare    0   23   19    6    3   0   0    0    0    0\n",
      "whitman        3  323  152  705   98  59  38    0    0   20\n"
     ]
    }
   ],
   "source": [
    "#cross tab!!! to see how we are doing\n",
    "print(pd.crosstab(Y_train.values, Y_pred))"
   ]
  },
  {
   "cell_type": "code",
   "execution_count": 99,
   "metadata": {},
   "outputs": [
    {
     "data": {
      "image/png": "[encoded data removed]",
      "text/plain": [
       "<matplotlib.figure.Figure at 0xce443c8>"
      ]
     },
     "metadata": {},
     "output_type": "display_data"
    }
   ],
   "source": [
    "# Plot the solution.\n",
    "plt.scatter(X_train_lsa[:, 0], X_train_lsa[:, 1], c=Y_pred)\n",
    "plt.show()\n"
   ]
  },
  {
   "cell_type": "code",
   "execution_count": 100,
   "metadata": {},
   "outputs": [
    {
     "data": {
      "text/plain": [
       "0.095765048266564637"
      ]
     },
     "execution_count": 100,
     "metadata": {},
     "output_type": "execute_result"
    }
   ],
   "source": [
    "#now since we have a ground truth we can calucalte the ARI score to understand the randomness in the assignment of clusters. \n",
    "metrics.adjusted_rand_score(Y_train.values, Y_pred)"
   ]
  },
  {
   "cell_type": "markdown",
   "metadata": {},
   "source": [
    "OK, this the ARI score indicates that our clustering solution is more random than ideal, but there does appear to be some semblance of correct prediction."
   ]
  },
  {
   "cell_type": "code",
   "execution_count": 152,
   "metadata": {},
   "outputs": [],
   "source": [
    "X_train_tfidf = vectorizer.transform(X_train)\n",
    "X_train_lsa = lsa.fit_transform(X_train_tfidf)\n"
   ]
  },
  {
   "cell_type": "code",
   "execution_count": 137,
   "metadata": {
    "scrolled": true
   },
   "outputs": [
    {
     "name": "stdout",
     "output_type": "stream",
     "text": [
      "Component 0:\n",
      "text\n",
      "said ill gotten wealth quickly spent proved instance                                                                           0.774956\n",
      "something said wanted much last winter ill rheumatism something said yesterday making bed wished might able buy next winter    0.767898\n",
      "would disgrace said one subjects dared disobey                                                                                 0.763787\n",
      "done us said brief military irony                                                                                              0.762059\n",
      "go said edmund sturdily                                                                                                        0.756175\n",
      "said nothing said marquis except something band                                                                                0.753992\n",
      "jolly get pals said                                                                                                            0.752378\n",
      "expect indeed said betty comforter                                                                                             0.751920\n",
      "pepper mostly said cook                                                                                                        0.751737\n",
      "never yet said carpenter                                                                                                       0.750930\n",
      "Name: 0, dtype: float64\n",
      "Component 1:\n",
      "text\n",
      "give cheerfully accept little sustenance hut garden little money rendezvous poems traveler lodging breakfast journey states ashamed gifts                                              0.561580\n",
      "girls wild dancing evenings ended occasionally unpremeditated little ball                                                                                                              0.553539\n",
      "noiseless patient spider mark little promontory stood isolated mark explore vacant vast surrounding launch forth filament filament filament ever unreeling ever tirelessly speeding    0.553340\n",
      "last excepting little boys cottage last remaining one filled animated houses given uppercross cheerful character                                                                       0.545178\n",
      "garden ken full little gentlemen little caps blue wear green ribbons fair                                                                                                              0.544613\n",
      "behold give lectures little charity give give                                                                                                                                          0.537099\n",
      "nothing much contributed preserve spirit emulation little society small honorary distinction given annually prize successful application                                               0.536956\n",
      "christmas eve shoemaker cleaned bench instead leather laid two sets gay little fairy clothes                                                                                           0.536455\n",
      "two little riddles rhyme                                                                                                                                                               0.528762\n",
      "take one little enough                                                                                                                                                                 0.528731\n",
      "Name: 1, dtype: float64\n",
      "Component 2:\n",
      "text\n",
      "take one little enough                                0.741792\n",
      "two little riddles rhyme                              0.736344\n",
      "little awkwardness first discourse another subject    0.729324\n",
      "herr grupello smiled little                           0.721171\n",
      "touched one covetous little creature                  0.708254\n",
      "little premature perceive beg pardon                  0.707110\n",
      "behold give lectures little charity give give         0.704853\n",
      "little jackals danced ahead lion stalked behind       0.694589\n",
      "none little enough said                               0.692967\n",
      "bank beside little pool heads three trout             0.688495\n",
      "Name: 2, dtype: float64\n",
      "Component 3:\n",
      "text\n",
      "syme drove drifting darkness trees utter abandonment                                                       0.869269\n",
      "syme sprang straight sending back bench behind crash                                                       0.864164\n",
      "syme drained last glass sparkling wine                                                                     0.859013\n",
      "syme laughter wild weakness relief                                                                         0.856442\n",
      "syme struck stick violently stones road                                                                    0.854457\n",
      "syme laid knife fork                                                                                       0.852334\n",
      "syme furious gesture stopped cab jumped sprang also escalade                                               0.847654\n",
      "syme received remark stolidity imagining joke                                                              0.845424\n",
      "ordinarily speaking proximity positive objective crime would sobered syme cured merely mystical tremors    0.839687\n",
      "made sort doubtful salute syme somewhat formally returned                                                  0.832863\n",
      "Name: 3, dtype: float64\n",
      "Component 4:\n",
      "text\n",
      "listening full description mr elliot anne could express surprise mrs smith spoken favourably beginning conversation                                                                                                                       0.637265\n",
      "excellent parents mr mrs musgrove exclaimed anne happy children marriages                                                                                                                                                                 0.622633\n",
      "seen mr elliot three years mrs smith answer given gravely impossible pursue subject farther anne felt gained nothing increase curiosity                                                                                                   0.601702\n",
      "sir walter elizabeth share interest letter mrs clay paid tribute decent attention enquiry mrs charles musgrove fine little boys anne liberty                                                                                              0.582361\n",
      "found mrs musgrove daughter within anne kindest welcome                                                                                                                                                                                   0.577514\n",
      "news cousins anne engagement burst mr elliot unexpectedly                                                                                                                                                                                 0.559196\n",
      "anne recollected pleasure next morning promise going mrs smith meaning engage home time mr elliot would likely call avoid mr elliot almost first object                                                                                   0.557969\n",
      "remainder anne time uppercross comprehending two days spent entirely mansion house satisfaction knowing extremely useful immediate companion assisting arrangements future mr mrs musgrove distressed state spirits would difficulties    0.557737\n",
      "fixed accordingly mrs clay party carriage reached point anne sat near window descried decidedly distinctly captain wentworth walking street                                                                                               0.554310\n",
      "happy elizabeth anne elliot walked                                                                                                                                                                                                        0.533764\n",
      "Name: 4, dtype: float64\n",
      "Component 5:\n",
      "text\n",
      "know much call meanest ignorant                                                                                                                        0.826003\n",
      "know cheshire cats always grinned fact know cats could grin                                                                                            0.822016\n",
      "language know highly disrespectful                                                                                                                     0.820411\n",
      "see dislike yet know take much pains please                                                                                                            0.816138\n",
      "know perfectly well egotism know omnivorous lines must write less would fetch whoever flush                                                            0.812242\n",
      "know never known capricious                                                                                                                            0.790608\n",
      "hearted doubters dull excluded frivolous sullen moping angry affected dishearten atheistical know every one know sea torment doubt despair unbelief    0.763477\n",
      "hears lambs innocent call hears ewes tender reply watching peace know shepherd nigh                                                                    0.759709\n",
      "know yet dead field                                                                                                                                    0.756436\n",
      "please honour know mine done offend                                                                                                                    0.755403\n",
      "Name: 5, dtype: float64\n",
      "Component 6:\n",
      "text\n",
      "6 well well take interest well take interest shall well                                                                                                                                   0.719554\n",
      "3 shall haue leaue                                                                                                                                                                        0.719554\n",
      "shall dwell upon petty methods cheating trades next attempted                                                                                                                             0.716850\n",
      "11 shall hang chamber walls                                                                                                                                                               0.716160\n",
      "6 america shall pyramids obelisks alexandrian pharos gardens babylon temple olympia                                                                                                       0.715647\n",
      "shall tie band stronger hoops iron ecstatic partners                                                                                                                                      0.712022\n",
      "swear architects shall appear without fall swear understand justify greatest among shall best knows encloses faithful rest shall forget shall perceive iota less shall fully glorified    0.709905\n",
      "consequences intimacy shall presently see                                                                                                                                                 0.709217\n",
      "caes touches vs selfe shall last seru                                                                                                                                                     0.708956\n",
      "shall ye inhabit powerful matrons                                                                                                                                                         0.704390\n",
      "Name: 6, dtype: float64\n",
      "Component 7:\n",
      "text\n",
      "alice beginning get tired sitting sister bank nothing twice peeped book sister reading pictures conversations use book thought alice without pictures conversation    0.494079\n",
      "name alice please majesty said alice politely added pack cards                                                                                                        0.482181\n",
      "mustard bird alice remarked                                                                                                                                           0.479782\n",
      "well perhaps said alice soothing tone angry                                                                                                                           0.469900\n",
      "wet ever said alice melancholy tone seem dry                                                                                                                          0.467446\n",
      "well alice said dormouse choosing notice last remark                                                                                                                  0.458619\n",
      "civil offer said alice angrily                                                                                                                                        0.455765\n",
      "mile high said alice                                                                                                                                                  0.454969\n",
      "goes returned said alice                                                                                                                                              0.453136\n",
      "well go rate said alice besides regular rule invented                                                                                                                 0.452115\n",
      "Name: 7, dtype: float64\n",
      "Component 8:\n",
      "text\n",
      "well like little larger sir mind said alice three inches wretched height                 0.501662\n",
      "take advantage surely sir arthur                                                         0.480201\n",
      "please recollect whatever please sir                                                     0.479624\n",
      "sir please replied sir arthur                                                            0.479561\n",
      "afraid sir said alice remember things used keep size ten minutes together                0.472880\n",
      "mine added sir walter                                                                    0.469188\n",
      "facts mentioned sir william hamilton account eruption mount vesuvius see phil            0.456072\n",
      "small part estate sir walter could dispose every acre alienable would made difference    0.449319\n",
      "sir arthur stood silence                                                                 0.448528\n",
      "gentleman rushed exhibition sir                                                          0.448290\n",
      "Name: 8, dtype: float64\n",
      "Component 9:\n",
      "text\n",
      "old man thankfully entered hospitable cottage                                                                       0.492084\n",
      "justice headstrong old man lucy                                                                                     0.484570\n",
      "old man thought school old man gathering youthful memories blooms youth                                             0.477431\n",
      "lucy follows old man tiptoe justice leans back looks consequential landlady sets arms akimbo old man starts sees    0.476768\n",
      "old oh happiest old man alive                                                                                       0.454588\n",
      "lucy sings goes watering myrtles servant shows old man                                                              0.452473\n",
      "old man comes forward                                                                                               0.448137\n",
      "old man thought school                                                                                              0.438865\n",
      "swear said old man leaning across dead face becoming loathsomely alive                                              0.399775\n",
      "lucy speaks old man going                                                                                           0.397327\n",
      "Name: 9, dtype: float64\n",
      "Component 10:\n",
      "text\n",
      "5 whole come back                                                                   0.536202\n",
      "looke publius come fetch                                                            0.533843\n",
      "tramp perpetual journey come listen                                                 0.533281\n",
      "one would regret anything nature interference archdeacon trust come                 0.529709\n",
      "come come rest branches                                                             0.529517\n",
      "perceive many uttering tongues perceive come roofs mouths nothing                   0.527051\n",
      "next instant automobile come catastrophic jar iron object                           0.522907\n",
      "come six clock go six                                                               0.514891\n",
      "fog follows antiques come limping appear wooden legged appear bandaged bloodless    0.512309\n",
      "lads come forward several exclaim paid                                              0.503450\n",
      "Name: 10, dtype: float64\n"
     ]
    }
   ],
   "source": [
    "#Looking at what sorts of paragraphs our solution considers similar, for the first 10 components\n",
    "paras_by_component=pd.DataFrame(X_train_lsa,index=X_train)\n",
    "for i in range(11):\n",
    "    print('Component {}:'.format(i))\n",
    "    print(paras_by_component.loc[:,i].sort_values(ascending=False)[0:10])"
   ]
  },
  {
   "cell_type": "code",
   "execution_count": 138,
   "metadata": {},
   "outputs": [
    {
     "name": "stdout",
     "output_type": "stream",
     "text": [
      "      cluster                                               para\n",
      "5770        0  sir said hardy firm respectful voice pardon as...\n",
      "4187        0               yes said philip forget may day hurry\n",
      "642         0  smallest intention asking said elizabeth affec...\n",
      "5469        0                  make shillings day slow work said\n",
      "2584        0  begin beginning king said gravely go till come...\n",
      "2496        0     yes think better leave said gryphon alice glad\n",
      "2913        0            said president nodding great many times\n",
      "3413        0                 dogs barking course said secretary\n",
      "1677        0  going dublin said tailor build court king get ...\n",
      "2366        0        fetch executioner said king eagerly hurried\n",
      "      cluster                                               para\n",
      "2411        1  walked together alice heard king say low voice...\n",
      "3278        1  spoke swept round corner man rigid rushing hor...\n",
      "5071        1  scarcely assembly adjourned ball alley fisher ...\n",
      "7083        1  say lingering day high borne turban head wags ...\n",
      "6114        1  guess must flag disposition hopeful green stuf...\n",
      "5780        1  instant prisoner led passed circle every eye f...\n",
      "5320        1       meantime leonora gone hall buy bodkin broken\n",
      "1856        1                                may _i_ help please\n",
      "5520        1  yes thought francisco brother would like nice ...\n",
      "7297        1  one bounteous morning meal sat peaceful parent...\n",
      "      cluster                                               para\n",
      "6679        2  around palace loftier fairer ampler yet earth ...\n",
      "935         2  thou mother mortal part cruelty didst mould he...\n",
      "873         2  found thy bed crimson joy dark secret love thy...\n",
      "7683        2                             thy portals also death\n",
      "883         2          shoulder art could twist sinews thy heart\n",
      "6930        2  aught aught mightiest best see conceive know b...\n",
      "7822        2                            thou ever darting globe\n",
      "7500        2  6 well well take interest well take interest s...\n",
      "7416        2  swiftly shrivel thought god nature wonders tim...\n",
      "7302        2  3 thou within tomb thee scenes thou stintless ...\n",
      "      cluster                                               para\n",
      "6967        3  paumanok starting fly like bird around around ...\n",
      "7804        3  burial chant organ solemn service sermon bendi...\n",
      "5994        3  war soldiers alone far far stood silently wait...\n",
      "5989        3  cabin ships sea boundless blue every side expa...\n",
      "7175        3                              soul love tongue fire\n",
      "6477        3  singing spring collect lovers understand lover...\n",
      "7680        3  carol sun usher noon setting throb brain beaut...\n",
      "6454        3  rolling ocean crowd came drop gently whisperin...\n",
      "7676        3  open mouth soul uttering gladness eyes soul se...\n",
      "7195        3  swear quality race talk like suits states whos...\n",
      "      cluster                                               para\n",
      "5241        4                             know best said cecilia\n",
      "7682        4  sing last equalities modern old sing endless f...\n",
      "6180        4  know deathless know orbit mine swept carpenter...\n",
      "2312        4                done know alice gently remarked ill\n",
      "1237        4  old alligator hidden away beneath mud bulrush ...\n",
      "6858        4             call mate pour forth meanings men know\n",
      "5475        4  one day boy ten years old passed carelessly wh...\n",
      "2075        4  sure ada said hair goes long ringlets mine go ...\n",
      "579         4                              old lady mary maclean\n",
      "5344        4  yes could would choose said louisa know choose...\n",
      "      cluster                                               para\n",
      "2177        5  get used time said caterpillar put hookah mout...\n",
      "7291        5  warble joy lilac time returning reminiscence s...\n",
      "1974        5  said bear green forest years years years since...\n",
      "5190        5        said archer always time enough reason first\n",
      "1720        5  king frode sent messengers world find two serv...\n",
      "2402        5  give fair warning shouted queen stamping groun...\n",
      "4061        5  walked room conversing time attorney concluded...\n",
      "2303        5  yes said hatter sigh always tea time time wash...\n",
      "6349        5  rise rise bow phantoms behind afar see huge fi...\n",
      "1968        5  time little people green forest green meadows ...\n",
      "      cluster                                               para\n",
      "5430        6  oh brave boy know grateful good son age compan...\n",
      "7831        6  exclude demarcate pick evils formidable masses...\n",
      "3604        6  mary immediately set milk picked good potato bowl\n",
      "780         6  naked white bags left behind rise upon clouds ...\n",
      "5612        6                    way good friends said carpenter\n",
      "1230        6                     much jove angry stupidity last\n",
      "3841        6  good people made sensible treated anyone injus...\n",
      "5277        6           dear leonora tell whether heart good bad\n",
      "1367        6  never came back day gave shoemaker wife good l...\n",
      "1745        6                               good bye said friend\n",
      "      cluster                                               para\n",
      "3920        7  mr spencer came examine pantry found large sal...\n",
      "4729        7  shall displeased choosing whatever like best s...\n",
      "645         7  anne distressing see mr elliot enter room quit...\n",
      "37          7  must take leave observe sir walter said mr she...\n",
      "4283        7  mr cox put boxing attitude observing mr somerv...\n",
      "4565        7  first settled near mr grant gardener felt incl...\n",
      "419         7  mr elliot called repeatedly dined evidently de...\n",
      "5007        7  mr archer said dr middleton grand affair decid...\n",
      "627         7  light appeared knew family long returned colon...\n",
      "4681        7  halfpence pocket excellent reason eating said ...\n",
      "      cluster                                               para\n",
      "2778        8  gesture revealed shop walker led syme short ir...\n",
      "2698        8        feel somehow mother syme continued casually\n",
      "2705        8                    yes said syme seriously promise\n",
      "3129        8  leant marquis started backwards upsetting chai...\n",
      "3314        8            instant syme thought eyes gone mad head\n",
      "3490        8  syme drove drifting darkness trees utter aband...\n",
      "3108        8                 syme nodded silent second two said\n",
      "2646        8  made sort doubtful salute syme somewhat formal...\n",
      "2859        8                syme felt moved spring leap balcony\n",
      "2997        8  suppose said syme smiling corresponding decent...\n",
      "      cluster                                               para\n",
      "1871        9                     little joe otter terrible rage\n",
      "2123        9  luckily alice little magic bottle full effect ...\n",
      "2062        9  indeed ten inches high face brightened thought...\n",
      "3459        9            paused little still trailing stick went\n",
      "1012        9                          run away little old woman\n",
      "1908        9  take advice little joe otter continued grandfa...\n",
      "1061        9             little country mouse stopped said trap\n",
      "5231        9  soon mrs villars given bracelet cecilia little...\n",
      "1611        9  spoke placed small gold ring prince little finger\n",
      "2226        9  duchess sang second verse song kept tossing ba...\n",
      "Empty DataFrame\n",
      "Columns: [cluster, para]\n",
      "Index: []\n"
     ]
    }
   ],
   "source": [
    "cluster_df = pd.DataFrame({'para':X_train, 'cluster':Y_pred})\n",
    "for clust in np.arange(0,11,1):\n",
    "    print(cluster_df[cluster_df['cluster'] == clust].head(10))"
   ]
  },
  {
   "cell_type": "markdown",
   "metadata": {
    "collapsed": true
   },
   "source": [
    "OK, so looking at the components, it appears that the clustering solution is basing the solution based in more topical themes or even common words. Component 1 relatd to something being said, comp 1 relates to being little, as does comp 2. Others include paragrpahs relating to proper names, or relating to numeric numbers. However, it does appear that the components consist of paragraphs from (mostly) the same author. Ideally I might want to deal with the common words and numeric types, but let's conitnue on for the purposes of the capstone. Looking at the actual clusters reveals what I saw in the comps. However, there are some clusters that seem to perfectly preduct the author (cluster 8), while others are very close (cluster 7).  Let's try a couple more types of clusters."
   ]
  },
  {
   "cell_type": "markdown",
   "metadata": {},
   "source": [
    "\n",
    "### Mean Shift"
   ]
  },
  {
   "cell_type": "code",
   "execution_count": 141,
   "metadata": {},
   "outputs": [
    {
     "name": "stdout",
     "output_type": "stream",
     "text": [
      "Number of estimated clusters: 1\n",
      "\n",
      "Comparing the assigned categories to the ones in the data:\n",
      "col_0           0\n",
      "row_0            \n",
      "austen        575\n",
      "blake         166\n",
      "bryant        693\n",
      "burgess       148\n",
      "carroll       401\n",
      "chesterton    706\n",
      "edgeworth    1730\n",
      "milton         11\n",
      "shakespeare    51\n",
      "whitman      1398\n"
     ]
    }
   ],
   "source": [
    "# Here we set the bandwidth. This function automatically derives a bandwidth\n",
    "# number based on an inspection of the distances among points in the data.\n",
    "bandwidth = estimate_bandwidth(X_train_lsa, quantile=0.4, n_samples=500)\n",
    "\n",
    "# Declare and fit the model.\n",
    "ms = MeanShift(bandwidth=bandwidth, bin_seeding=True)\n",
    "ms.fit(X_train_lsa)\n",
    "\n",
    "# Extract cluster assignments for each data point.\n",
    "labels = ms.labels_\n",
    "\n",
    "# Coordinates of the cluster centers.\n",
    "cluster_centers = ms.cluster_centers_\n",
    "\n",
    "# Count our clusters.\n",
    "n_clusters_ = len(np.unique(labels))\n",
    "\n",
    "print(\"Number of estimated clusters: {}\".format(n_clusters_))\n",
    "\n",
    "print('\\nComparing the assigned categories to the ones in the data:')\n",
    "print(pd.crosstab(Y_train.values, labels))\n",
    "\n"
   ]
  },
  {
   "cell_type": "markdown",
   "metadata": {},
   "source": [
    "using the bandwidth we calculated (and after adjusting the parameters), its is clear that mean shift does work for our purposes as it only is creating 1 cluster. Manually adjusting the bandwith does increase the number of clusters, but it still does not appear to be assinged by author. Let's go back to k-means quickly to run minibatch"
   ]
  },
  {
   "cell_type": "code",
   "execution_count": 148,
   "metadata": {},
   "outputs": [
    {
     "name": "stdout",
     "output_type": "stream",
     "text": [
      "Comparing k-means and mini batch k-means solutions:\n",
      "col_0         0    1    2    3   4   5    6    7    8    9\n",
      "row_0                                                     \n",
      "austen       17   15  198   33  23  11    6   10  244   18\n",
      "blake        15   39   28    3   1  10   32   22    5   11\n",
      "bryant       23   54  221  107  11  31   30   28   11  177\n",
      "burgess       6    5   69    9   2   6    3    3    0   45\n",
      "carroll      10   11  138  153   2  23   19    2    6   37\n",
      "chesterton   16   43  283  218   6  22   43   19   34   22\n",
      "edgeworth    46   63  826  413  30  98   36   54   64  100\n",
      "milton        0    5    2    0   1   1    1    1    0    0\n",
      "shakespeare   1    5   25    0   1   0   10    1    8    0\n",
      "whitman      68  695  228    3  14  15  130  105  117   23\n"
     ]
    }
   ],
   "source": [
    "# Each batch will be made up of 200 data points.\n",
    "minibatchkmeans = MiniBatchKMeans(\n",
    "    init='random',\n",
    "    n_clusters=10,\n",
    "    batch_size=200)\n",
    "minibatchkmeans.fit(X_train_lsa)\n",
    "\n",
    "# Add the new predicted cluster memberships to the data frame.\n",
    "predict_mini = minibatchkmeans.predict(X_train_lsa)\n",
    "\n",
    "# Check the MiniBatch model against our earlier one.\n",
    "print('Comparing k-means and mini batch k-means solutions:')\n",
    "print(pd.crosstab(Y_train.values, predict_mini))"
   ]
  },
  {
   "cell_type": "code",
   "execution_count": 150,
   "metadata": {},
   "outputs": [
    {
     "data": {
      "image/png": "[encoded data removed]",
      "text/plain": [
       "<matplotlib.figure.Figure at 0xd01e6d8>"
      ]
     },
     "metadata": {},
     "output_type": "display_data"
    }
   ],
   "source": [
    "# Plot the solution.\n",
    "plt.scatter(X_train_lsa[:, 0], X_train_lsa[:, 1], c=predict_mini)\n",
    "plt.show()"
   ]
  },
  {
   "cell_type": "code",
   "execution_count": 151,
   "metadata": {},
   "outputs": [
    {
     "data": {
      "text/plain": [
       "0.12126223566183919"
      ]
     },
     "execution_count": 151,
     "metadata": {},
     "output_type": "execute_result"
    }
   ],
   "source": [
    "metrics.adjusted_rand_score(Y_train.values, predict_mini)"
   ]
  },
  {
   "cell_type": "markdown",
   "metadata": {
    "collapsed": true
   },
   "source": [
    "This is a little better. Let's look at the componenets"
   ]
  },
  {
   "cell_type": "code",
   "execution_count": 153,
   "metadata": {},
   "outputs": [
    {
     "name": "stdout",
     "output_type": "stream",
     "text": [
      "Component 0:\n",
      "text\n",
      "something said wanted much last winter ill rheumatism something said yesterday making bed wished might able buy next winter    0.762701\n",
      "said ill gotten wealth quickly spent proved instance                                                                           0.761764\n",
      "done us said brief military irony                                                                                              0.761309\n",
      "would disgrace said one subjects dared disobey                                                                                 0.760542\n",
      "go said edmund sturdily                                                                                                        0.757126\n",
      "expect indeed said betty comforter                                                                                             0.754545\n",
      "said nothing said marquis except something band                                                                                0.753708\n",
      "pepper mostly said cook                                                                                                        0.753423\n",
      "fourth said considered tail greatly improved                                                                                   0.752714\n",
      "jolly get pals said                                                                                                            0.748765\n",
      "Name: 0, dtype: float64\n",
      "Component 1:\n",
      "text\n",
      "last excepting little boys cottage last remaining one filled animated houses given uppercross cheerful character                                                                       0.558062\n",
      "noiseless patient spider mark little promontory stood isolated mark explore vacant vast surrounding launch forth filament filament filament ever unreeling ever tirelessly speeding    0.557419\n",
      "give cheerfully accept little sustenance hut garden little money rendezvous poems traveler lodging breakfast journey states ashamed gifts                                              0.553264\n",
      "girls wild dancing evenings ended occasionally unpremeditated little ball                                                                                                              0.550637\n",
      "nothing much contributed preserve spirit emulation little society small honorary distinction given annually prize successful application                                               0.549288\n",
      "behold give lectures little charity give give                                                                                                                                          0.541899\n",
      "garden ken full little gentlemen little caps blue wear green ribbons fair                                                                                                              0.538961\n",
      "christmas eve shoemaker cleaned bench instead leather laid two sets gay little fairy clothes                                                                                           0.536723\n",
      "touched one covetous little creature                                                                                                                                                   0.535071\n",
      "last explanation always remains made prudence little large alike drop quietly aside prudence suits immortality                                                                         0.534415\n",
      "Name: 1, dtype: float64\n",
      "Component 2:\n",
      "text\n",
      "take one little enough                                0.743723\n",
      "two little riddles rhyme                              0.738127\n",
      "little awkwardness first discourse another subject    0.732563\n",
      "herr grupello smiled little                           0.719828\n",
      "touched one covetous little creature                  0.717026\n",
      "behold give lectures little charity give give         0.711237\n",
      "little premature perceive beg pardon                  0.708668\n",
      "none little enough said                               0.693933\n",
      "little jackals danced ahead lion stalked behind       0.692940\n",
      "bank beside little pool heads three trout             0.692792\n",
      "Name: 2, dtype: float64\n",
      "Component 3:\n",
      "text\n",
      "syme drove drifting darkness trees utter abandonment                                                       0.867524\n",
      "syme sprang straight sending back bench behind crash                                                       0.864448\n",
      "syme drained last glass sparkling wine                                                                     0.862909\n",
      "syme struck stick violently stones road                                                                    0.859819\n",
      "syme furious gesture stopped cab jumped sprang also escalade                                               0.855252\n",
      "syme laughter wild weakness relief                                                                         0.854851\n",
      "syme laid knife fork                                                                                       0.852861\n",
      "syme received remark stolidity imagining joke                                                              0.845482\n",
      "ordinarily speaking proximity positive objective crime would sobered syme cured merely mystical tremors    0.839807\n",
      "made sort doubtful salute syme somewhat formally returned                                                  0.828332\n",
      "Name: 3, dtype: float64\n",
      "Component 4:\n",
      "text\n",
      "listening full description mr elliot anne could express surprise mrs smith spoken favourably beginning conversation                                                                                                                       0.632241\n",
      "excellent parents mr mrs musgrove exclaimed anne happy children marriages                                                                                                                                                                 0.609571\n",
      "seen mr elliot three years mrs smith answer given gravely impossible pursue subject farther anne felt gained nothing increase curiosity                                                                                                   0.587871\n",
      "found mrs musgrove daughter within anne kindest welcome                                                                                                                                                                                   0.579729\n",
      "sir walter elizabeth share interest letter mrs clay paid tribute decent attention enquiry mrs charles musgrove fine little boys anne liberty                                                                                              0.576029\n",
      "remainder anne time uppercross comprehending two days spent entirely mansion house satisfaction knowing extremely useful immediate companion assisting arrangements future mr mrs musgrove distressed state spirits would difficulties    0.563450\n",
      "news cousins anne engagement burst mr elliot unexpectedly                                                                                                                                                                                 0.555195\n",
      "fixed accordingly mrs clay party carriage reached point anne sat near window descried decidedly distinctly captain wentworth walking street                                                                                               0.552956\n",
      "anne recollected pleasure next morning promise going mrs smith meaning engage home time mr elliot would likely call avoid mr elliot almost first object                                                                                   0.552134\n",
      "one day passed since anne conversation mrs smith keener interest succeeded little touched mr elliot conduct except effects one quarter became matter course next morning still defer explanatory visit rivers street                      0.536359\n",
      "Name: 4, dtype: float64\n",
      "Component 5:\n",
      "text\n",
      "know much call meanest ignorant                                                                                                                        0.826469\n",
      "know cheshire cats always grinned fact know cats could grin                                                                                            0.822491\n",
      "language know highly disrespectful                                                                                                                     0.820595\n",
      "see dislike yet know take much pains please                                                                                                            0.817075\n",
      "know perfectly well egotism know omnivorous lines must write less would fetch whoever flush                                                            0.813346\n",
      "know never known capricious                                                                                                                            0.794260\n",
      "please honour know mine done offend                                                                                                                    0.770887\n",
      "hearted doubters dull excluded frivolous sullen moping angry affected dishearten atheistical know every one know sea torment doubt despair unbelief    0.762020\n",
      "hears lambs innocent call hears ewes tender reply watching peace know shepherd nigh                                                                    0.756917\n",
      "know yet dead field                                                                                                                                    0.752490\n",
      "Name: 5, dtype: float64\n",
      "Component 6:\n",
      "text\n",
      "6 well well take interest well take interest shall well                                                                                                                                   0.719340\n",
      "3 shall haue leaue                                                                                                                                                                        0.719340\n",
      "shall dwell upon petty methods cheating trades next attempted                                                                                                                             0.716888\n",
      "6 america shall pyramids obelisks alexandrian pharos gardens babylon temple olympia                                                                                                       0.716146\n",
      "11 shall hang chamber walls                                                                                                                                                               0.715404\n",
      "shall tie band stronger hoops iron ecstatic partners                                                                                                                                      0.710685\n",
      "caes touches vs selfe shall last seru                                                                                                                                                     0.709144\n",
      "consequences intimacy shall presently see                                                                                                                                                 0.708310\n",
      "swear architects shall appear without fall swear understand justify greatest among shall best knows encloses faithful rest shall forget shall perceive iota less shall fully glorified    0.707212\n",
      "danger shall balk columbia lovers need thousand shall sternly immolate one                                                                                                                0.703948\n",
      "Name: 6, dtype: float64\n",
      "Component 7:\n",
      "text\n",
      "alice beginning get tired sitting sister bank nothing twice peeped book sister reading pictures conversations use book thought alice without pictures conversation    0.493899\n",
      "name alice please majesty said alice politely added pack cards                                                                                                        0.479528\n",
      "mustard bird alice remarked                                                                                                                                           0.477450\n",
      "wet ever said alice melancholy tone seem dry                                                                                                                          0.473540\n",
      "well perhaps said alice soothing tone angry                                                                                                                           0.473189\n",
      "well alice said dormouse choosing notice last remark                                                                                                                  0.458739\n",
      "alice felt could denied tried another question                                                                                                                        0.455710\n",
      "civil offer said alice angrily                                                                                                                                        0.455174\n",
      "least idea talking said alice                                                                                                                                         0.453861\n",
      "mile high said alice                                                                                                                                                  0.453698\n",
      "Name: 7, dtype: float64\n",
      "Component 8:\n",
      "text\n",
      "well like little larger sir mind said alice three inches wretched height                                0.501073\n",
      "please recollect whatever please sir                                                                    0.481417\n",
      "sir please replied sir arthur                                                                           0.477496\n",
      "take advantage surely sir arthur                                                                        0.475637\n",
      "mine added sir walter                                                                                   0.470658\n",
      "afraid sir said alice remember things used keep size ten minutes together                               0.465658\n",
      "facts mentioned sir william hamilton account eruption mount vesuvius see phil                           0.455920\n",
      "small part estate sir walter could dispose every acre alienable would made difference                   0.449005\n",
      "sir arthur stood silence                                                                                0.445380\n",
      "westgate buildings must rather surprised appearance carriage drawn near pavement observed sir walter    0.444398\n",
      "Name: 8, dtype: float64\n",
      "Component 9:\n",
      "text\n",
      "old man thankfully entered hospitable cottage                                                                       0.492753\n",
      "justice headstrong old man lucy                                                                                     0.486701\n",
      "old man thought school old man gathering youthful memories blooms youth                                             0.478698\n",
      "lucy follows old man tiptoe justice leans back looks consequential landlady sets arms akimbo old man starts sees    0.476362\n",
      "old oh happiest old man alive                                                                                       0.455310\n",
      "lucy sings goes watering myrtles servant shows old man                                                              0.455028\n",
      "old man comes forward                                                                                               0.451066\n",
      "old man thought school                                                                                              0.439822\n",
      "lucy speaks old man going                                                                                           0.396320\n",
      "swear said old man leaning across dead face becoming loathsomely alive                                              0.389323\n",
      "Name: 9, dtype: float64\n",
      "Component 10:\n",
      "text\n",
      "5 whole come back                                                                   0.535769\n",
      "looke publius come fetch                                                            0.532291\n",
      "tramp perpetual journey come listen                                                 0.531502\n",
      "one would regret anything nature interference archdeacon trust come                 0.529851\n",
      "perceive many uttering tongues perceive come roofs mouths nothing                   0.527240\n",
      "come come rest branches                                                             0.527200\n",
      "next instant automobile come catastrophic jar iron object                           0.516997\n",
      "come six clock go six                                                               0.513390\n",
      "fog follows antiques come limping appear wooden legged appear bandaged bloodless    0.510782\n",
      "lads come forward several exclaim paid                                              0.504445\n",
      "Name: 10, dtype: float64\n"
     ]
    }
   ],
   "source": [
    "#Looking at what sorts of paragraphs our solution considers similar, for the first 10 components\n",
    "paras_by_component=pd.DataFrame(X_train_lsa,index=X_train)\n",
    "for i in range(11):\n",
    "    print('Component {}:'.format(i))\n",
    "    print(paras_by_component.loc[:,i].sort_values(ascending=False)[0:10])"
   ]
  },
  {
   "cell_type": "code",
   "execution_count": 155,
   "metadata": {},
   "outputs": [
    {
     "name": "stdout",
     "output_type": "stream",
     "text": [
      "      cluster                                               para\n",
      "5518        0  left minutes brother could think anybody would...\n",
      "843         0  southern clime summer prime never fades away l...\n",
      "1608        0        king sad hear rejoiced friendship fairy son\n",
      "7079        0  wife side lies slumbering wars long head pillo...\n",
      "4920        0                 bell rang answered squeaking voice\n",
      "2226        0  duchess sang second verse song kept tossing ba...\n",
      "1237        0  old alligator hidden away beneath mud bulrush ...\n",
      "1084        0                 suppose yet unless somebody picked\n",
      "6294        0      one pumps shot away generally thought sinking\n",
      "1230        0                     much jove angry stupidity last\n",
      "      cluster                                               para\n",
      "6679        1  around palace loftier fairer ampler yet earth ...\n",
      "6114        1  guess must flag disposition hopeful green stuf...\n",
      "7682        1  sing last equalities modern old sing endless f...\n",
      "6967        1  paumanok starting fly like bird around around ...\n",
      "7804        1  burial chant organ solemn service sermon bendi...\n",
      "5994        1  war soldiers alone far far stood silently wait...\n",
      "5989        1  cabin ships sea boundless blue every side expa...\n",
      "7175        1                              soul love tongue fire\n",
      "2665        1   gave two long whistles hansom came rattling road\n",
      "6477        1  singing spring collect lovers understand lover...\n",
      "      cluster                                               para\n",
      "3278        2  spoke swept round corner man rigid rushing hor...\n",
      "3920        2  mr spencer came examine pantry found large sal...\n",
      "5071        2  scarcely assembly adjourned ball alley fisher ...\n",
      "5780        2  instant prisoner led passed circle every eye f...\n",
      "5320        2       meantime leonora gone hall buy bodkin broken\n",
      "1856        2                                may _i_ help please\n",
      "7297        2  one bounteous morning meal sat peaceful parent...\n",
      "4568        2                    secret replied grant arch smile\n",
      "3604        2  mary immediately set milk picked good potato bowl\n",
      "780         2  naked white bags left behind rise upon clouds ...\n",
      "      cluster                                               para\n",
      "5241        3                             know best said cecilia\n",
      "2177        3  get used time said caterpillar put hookah mout...\n",
      "5770        3  sir said hardy firm respectful voice pardon as...\n",
      "4187        3               yes said philip forget may day hurry\n",
      "642         3  smallest intention asking said elizabeth affec...\n",
      "5469        3                  make shillings day slow work said\n",
      "2584        3  begin beginning king said gravely go till come...\n",
      "2496        3     yes think better leave said gryphon alice glad\n",
      "4729        3  shall displeased choosing whatever like best s...\n",
      "2705        3                    yes said syme seriously promise\n",
      "      cluster                                               para\n",
      "1745        4                               good bye said friend\n",
      "3807        4               always mean long deserve find friend\n",
      "7346        4  far away northern county placid pastoral regio...\n",
      "7795        4  somehow let go yet funeral though let remain b...\n",
      "1054        4   little country mouse glad went city visit friend\n",
      "1060        4  city mouse took little friend cellar stairs bi...\n",
      "5646        4  piedro moment friend world could apply advice ...\n",
      "7330        4  great laws take effuse without argument style ...\n",
      "5716        4           vain urged tarlton permit consult friend\n",
      "556         4  oppose kind politeness sorry examined real pro...\n",
      "      cluster                                               para\n",
      "2411        5  walked together alice heard king say low voice...\n",
      "7172        5  9 listened phantom ontario shore heard voice a...\n",
      "891         5  laid upon bank love lay sleeping heard among r...\n",
      "4116        5  came cottage door heard many voices saw entere...\n",
      "2075        5  sure ada said hair goes long ringlets mine go ...\n",
      "7307        5                             2 makes tremble voices\n",
      "3188        5  oh show us said wearily got enough equip paper...\n",
      "4394        5  defence explanation however heard everybody ga...\n",
      "3344        5  low lights police station indeed blotted broke...\n",
      "4955        5          oh ring said frederick stopping hand mean\n",
      "      cluster                                               para\n",
      "935         6  thou mother mortal part cruelty didst mould he...\n",
      "873         6  found thy bed crimson joy dark secret love thy...\n",
      "7083        6  say lingering day high borne turban head wags ...\n",
      "7683        6                             thy portals also death\n",
      "5520        6  yes thought francisco brother would like nice ...\n",
      "883         6          shoulder art could twist sinews thy heart\n",
      "6930        6  aught aught mightiest best see conceive know b...\n",
      "7822        6                            thou ever darting globe\n",
      "4911        6  next colonel epaulette frederick marianne part...\n",
      "7195        6  swear quality race talk like suits states whos...\n",
      "      cluster                                               para\n",
      "6180        7  know deathless know orbit mine swept carpenter...\n",
      "1273        7  oh mother dear mother said must move us away n...\n",
      "7289        7  upon convicts armed keepers ere stirr convict ...\n",
      "6958        7  forty years city seen soldiers parading forty ...\n",
      "7296        7  one sacred parturition scene happy painless mo...\n",
      "6242        7  logic sermons never convince damp night drives...\n",
      "7353        7  wandering morn emerging night gloomy thoughts ...\n",
      "778         7                     quiet night tom sleeping sight\n",
      "2010        7  course mrs brown promised would night farmer b...\n",
      "1714        7  old white garraun saw tailor sitting ground sa...\n",
      "      cluster                                               para\n",
      "7831        8  exclude demarcate pick evils formidable masses...\n",
      "7500        8  6 well well take interest well take interest s...\n",
      "362         8  anne never entered kellynch since quitting lad...\n",
      "645         8  anne distressing see mr elliot enter room quit...\n",
      "6858        8             call mate pour forth meanings men know\n",
      "241         8  fine november day miss musgroves came little g...\n",
      "3129        8  leant marquis started backwards upsetting chai...\n",
      "508         8  admiral croft taking walk anne expressing wish...\n",
      "487         8  sir walter elizabeth share interest letter mrs...\n",
      "5542        8  shall dwell upon petty methods cheating trades...\n",
      "      cluster                                               para\n",
      "5430        9  oh brave boy know grateful good son age compan...\n",
      "1871        9                     little joe otter terrible rage\n",
      "2123        9  luckily alice little magic bottle full effect ...\n",
      "2062        9  indeed ten inches high face brightened thought...\n",
      "3459        9            paused little still trailing stick went\n",
      "1012        9                          run away little old woman\n",
      "1908        9  take advice little joe otter continued grandfa...\n",
      "1061        9             little country mouse stopped said trap\n",
      "5231        9  soon mrs villars given bracelet cecilia little...\n",
      "1611        9  spoke placed small gold ring prince little finger\n",
      "Empty DataFrame\n",
      "Columns: [cluster, para]\n",
      "Index: []\n"
     ]
    }
   ],
   "source": [
    "cluster_df = pd.DataFrame({'para':X_train, 'cluster':predict_mini})\n",
    "for clust in np.arange(0,11,1):\n",
    "    print(cluster_df[cluster_df['cluster'] == clust].head(10))"
   ]
  },
  {
   "cell_type": "markdown",
   "metadata": {},
   "source": [
    "About the same as before"
   ]
  },
  {
   "cell_type": "markdown",
   "metadata": {},
   "source": [
    "### Spectral\n"
   ]
  },
  {
   "cell_type": "code",
   "execution_count": 156,
   "metadata": {},
   "outputs": [
    {
     "name": "stdout",
     "output_type": "stream",
     "text": [
      "Comparing the clisters against the aithors:\n",
      "col_0          0    1    2    3   4    5    6    7     8   9\n",
      "row_0                                                       \n",
      "austen       220   13    4   13  13   59   12    0   236   5\n",
      "blake          0   12   45    4   3    0    9    0    88   5\n",
      "bryant         0  164   29   87  15    0   53    0   336   9\n",
      "burgess        0   43    0    8   6    0    4    0    87   0\n",
      "carroll        0   30    5  129  30    1    6    0   197   3\n",
      "chesterton     0   17   20  120  11   11   59  173   286   9\n",
      "edgeworth     12   81   28  248  71  176   77    0  1008  29\n",
      "milton         0    0    5    0   0    0    1    0     5   0\n",
      "shakespeare    0    0   10    0   2    0    0    0    31   8\n",
      "whitman        1   18  685    1  52    0  115    0   469  57\n"
     ]
    }
   ],
   "source": [
    "\n",
    "n_clusters=10\n",
    "\n",
    "# Declare and fit the model.\n",
    "sc = SpectralClustering(n_clusters=n_clusters, random_state = 12)\n",
    "Y_pred_sc = sc.fit_predict(X_train_lsa)\n",
    "\n",
    "\n",
    "print('Comparing the clisters against the aithors:')\n",
    "print(pd.crosstab(Y_train.values,Y_pred_sc))"
   ]
  },
  {
   "cell_type": "code",
   "execution_count": 157,
   "metadata": {},
   "outputs": [
    {
     "data": {
      "text/plain": [
       "0.10036837130122282"
      ]
     },
     "execution_count": 157,
     "metadata": {},
     "output_type": "execute_result"
    }
   ],
   "source": [
    "metrics.adjusted_rand_score(Y_train.values, Y_pred_sc)"
   ]
  },
  {
   "cell_type": "code",
   "execution_count": 158,
   "metadata": {},
   "outputs": [
    {
     "data": {
      "image/png": "[encoded data removed]",
      "text/plain": [
       "<matplotlib.figure.Figure at 0xd5bbfd0>"
      ]
     },
     "metadata": {},
     "output_type": "display_data"
    }
   ],
   "source": [
    "# Plot the solution.\n",
    "plt.scatter(X_train_lsa[:, 0], X_train_lsa[:, 1], c=Y_pred_sc)\n",
    "plt.show()"
   ]
  },
  {
   "cell_type": "markdown",
   "metadata": {},
   "source": [
    "This might actually be a litl better than k means. There definitely appears to be a reasonably accurate prediction of author, alothout it not perfect. The issues are likely due to the large size of the edeworth text.\n"
   ]
  },
  {
   "cell_type": "code",
   "execution_count": 159,
   "metadata": {},
   "outputs": [
    {
     "name": "stdout",
     "output_type": "stream",
     "text": [
      "      cluster                                               para\n",
      "642         0  smallest intention asking said elizabeth affec...\n",
      "362         0  anne never entered kellynch since quitting lad...\n",
      "645         0  anne distressing see mr elliot enter room quit...\n",
      "185         0  actually sofa mrs musgrove readily made room d...\n",
      "3874        0  surprised though continued mrs pomfret proceed...\n",
      "508         0  admiral croft taking walk anne expressing wish...\n",
      "487         0  sir walter elizabeth share interest letter mrs...\n",
      "5833        0                   could give grandmother said anne\n",
      "176         0  felt luck admiral assure replied captain wentw...\n",
      "330         0  anne attending strength zeal thought instinct ...\n",
      "      cluster                                               para\n",
      "1871        1                     little joe otter terrible rage\n",
      "2123        1  luckily alice little magic bottle full effect ...\n",
      "2062        1  indeed ten inches high face brightened thought...\n",
      "3459        1            paused little still trailing stick went\n",
      "1908        1  take advice little joe otter continued grandfa...\n",
      "1061        1             little country mouse stopped said trap\n",
      "1611        1  spoke placed small gold ring prince little finger\n",
      "1926        1          bank beside little pool heads three trout\n",
      "3265        1          colonel silent little said strained voice\n",
      "4351        1   box father said rosamond little peevishly basket\n",
      "      cluster                                               para\n",
      "935         2  thou mother mortal part cruelty didst mould he...\n",
      "873         2  found thy bed crimson joy dark secret love thy...\n",
      "7683        2                             thy portals also death\n",
      "6967        2  paumanok starting fly like bird around around ...\n",
      "883         2          shoulder art could twist sinews thy heart\n",
      "7804        2  burial chant organ solemn service sermon bendi...\n",
      "5994        2  war soldiers alone far far stood silently wait...\n",
      "6930        2  aught aught mightiest best see conceive know b...\n",
      "5989        2  cabin ships sea boundless blue every side expa...\n",
      "7822        2                            thou ever darting globe\n",
      "      cluster                                               para\n",
      "2177        3  get used time said caterpillar put hookah mout...\n",
      "4187        3               yes said philip forget may day hurry\n",
      "2584        3  begin beginning king said gravely go till come...\n",
      "2496        3     yes think better leave said gryphon alice glad\n",
      "2913        3            said president nodding great many times\n",
      "3413        3                 dogs barking course said secretary\n",
      "2366        3        fetch executioner said king eagerly hurried\n",
      "3957        3                          said barbara turning back\n",
      "5612        3                    way good friends said carpenter\n",
      "5190        3        said archer always time enough reason first\n",
      "      cluster                                               para\n",
      "5430        4  oh brave boy know grateful good son age compan...\n",
      "5241        4                             know best said cecilia\n",
      "6180        4  know deathless know orbit mine swept carpenter...\n",
      "2312        4                done know alice gently remarked ill\n",
      "6858        4             call mate pour forth meanings men know\n",
      "2075        4  sure ada said hair goes long ringlets mine go ...\n",
      "5344        4  yes could would choose said louisa know choose...\n",
      "7735        4  steaming northern rapids old st lawrence remin...\n",
      "583         4  case continued mrs smith short pause hope beli...\n",
      "6349        4  rise rise bow phantoms behind afar see huge fi...\n",
      "      cluster                                               para\n",
      "5770        5  sir said hardy firm respectful voice pardon as...\n",
      "3           5  followed history rise ancient respectable fami...\n",
      "4729        5  shall displeased choosing whatever like best s...\n",
      "37          5  must take leave observe sir walter said mr she...\n",
      "4283        5  mr cox put boxing attitude observing mr somerv...\n",
      "4565        5  first settled near mr grant gardener felt incl...\n",
      "4057        5  attorney brightening prepared take leave could...\n",
      "419         5  mr elliot called repeatedly dined evidently de...\n",
      "4061        5  walked room conversing time attorney concluded...\n",
      "4013        5  soon miss somers spoken susan inquired brother...\n",
      "      cluster                                               para\n",
      "3278        6  spoke swept round corner man rigid rushing hor...\n",
      "7682        6  sing last equalities modern old sing endless f...\n",
      "6097        6  never inception youth age never perfection hea...\n",
      "1012        6                          run away little old woman\n",
      "6689        6  ye reverent sane sisters raise voice far super...\n",
      "1237        6  old alligator hidden away beneath mud bulrush ...\n",
      "7270        6  soul verges reference ensues person says think...\n",
      "6339        6  fall young man died buried young woman died pu...\n",
      "6186        6  poet woman man say great woman man say nothing...\n",
      "579         6                              old lady mary maclean\n",
      "      cluster                                               para\n",
      "2778        7  gesture revealed shop walker led syme short ir...\n",
      "2698        7        feel somehow mother syme continued casually\n",
      "2705        7                    yes said syme seriously promise\n",
      "3129        7  leant marquis started backwards upsetting chai...\n",
      "3314        7            instant syme thought eyes gone mad head\n",
      "3490        7  syme drove drifting darkness trees utter aband...\n",
      "3108        7                 syme nodded silent second two said\n",
      "2646        7  made sort doubtful salute syme somewhat formal...\n",
      "2859        7                syme felt moved spring leap balcony\n",
      "2997        7  suppose said syme smiling corresponding decent...\n",
      "      cluster                                               para\n",
      "2411        8  walked together alice heard king say low voice...\n",
      "3920        8  mr spencer came examine pantry found large sal...\n",
      "5071        8  scarcely assembly adjourned ball alley fisher ...\n",
      "7831        8  exclude demarcate pick evils formidable masses...\n",
      "7083        8  say lingering day high borne turban head wags ...\n",
      "6114        8  guess must flag disposition hopeful green stuf...\n",
      "5780        8  instant prisoner led passed circle every eye f...\n",
      "5320        8       meantime leonora gone hall buy bodkin broken\n",
      "1856        8                                may _i_ help please\n",
      "5520        8  yes thought francisco brother would like nice ...\n",
      "      cluster                                               para\n",
      "6679        9  around palace loftier fairer ampler yet earth ...\n",
      "7500        9  6 well well take interest well take interest s...\n",
      "5542        9  shall dwell upon petty methods cheating trades...\n",
      "7659        9  shall go forth shall traverse states awhile te...\n",
      "7595        9  saw face smear slobbering idiot asylum knew co...\n",
      "6086        9  1 celebrate sing assume shall assume every ato...\n",
      "4054        9                                shall ruin poor man\n",
      "875         9  dance drink sing till blind hand shall brush wing\n",
      "6432        9  examine limbs red black white cunning tendon n...\n",
      "7511        9  things dream changed much law us changed dream...\n",
      "Empty DataFrame\n",
      "Columns: [cluster, para]\n",
      "Index: []\n"
     ]
    }
   ],
   "source": [
    "cluster_df = pd.DataFrame({'para':X_train, 'cluster':Y_pred_sc})\n",
    "for clust in np.arange(0,11,1):\n",
    "    print(cluster_df[cluster_df['cluster'] == clust].head(10))"
   ]
  },
  {
   "cell_type": "markdown",
   "metadata": {},
   "source": [
    "While there is still al ot of overlap, the clustering does fairly well. It is very topical and picks up common words themes, but once again its not perfect. How does it work on the test set? "
   ]
  },
  {
   "cell_type": "code",
   "execution_count": 160,
   "metadata": {
    "collapsed": true
   },
   "outputs": [],
   "source": [
    "X_test_tfidf = vectorizer.transform(X_test)\n",
    "X_test_lsa = lsa.fit_transform(X_test_tfidf)\n",
    "Y_pred_test  = sc.fit_predict(X_test_lsa)"
   ]
  },
  {
   "cell_type": "code",
   "execution_count": 161,
   "metadata": {},
   "outputs": [
    {
     "name": "stdout",
     "output_type": "stream",
     "text": [
      "Comparing the clisters against the aithors:\n",
      "col_0          0    1   2   3   4    5   6   7   8   9\n",
      "row_0                                                 \n",
      "austen         3  139   0   6   3    7   6   7   4   7\n",
      "blake         26    7   0   1   0    0   4   0   2   0\n",
      "bryant        16   85   0   2   7   27  48   7   4   8\n",
      "burgess        1   30   0   2   1    0   6   0   0   1\n",
      "carroll        4   45   0   5   5   32   7   7  51   0\n",
      "chesterton    22   68  65   3   0   52   4   5  11   6\n",
      "edgeworth     38  335   0  30  23  106  22   9  18  36\n",
      "milton         3    1   0   0   0    0   0   0   0   0\n",
      "shakespeare    5   15   0   0   0    0   0   0   0   2\n",
      "whitman      283   65   0  15  24    4   8  36   9  14\n"
     ]
    }
   ],
   "source": [
    "print('Comparing the clisters against the aithors:')\n",
    "print(pd.crosstab(Y_test.values,Y_pred_test))"
   ]
  },
  {
   "cell_type": "code",
   "execution_count": 162,
   "metadata": {},
   "outputs": [
    {
     "name": "stdout",
     "output_type": "stream",
     "text": [
      "      cluster                                               para\n",
      "6120        0  grass dark white heads old mothers darker colo...\n",
      "3298        0       cut short bang blaze light seemed close eyes\n",
      "4580        0  father said arthur trying stop sobbing thing s...\n",
      "3154        0  felt strange vivid value earth around grass fe...\n",
      "7827        0                      commonplace sing cheap health\n",
      "4830        0                       old worship would give leave\n",
      "991         0  said words wonderful light glowed heart sound ...\n",
      "7719        0  carol closing sixty nine resume repetition lin...\n",
      "7301        0  shows laboring life city country women men chi...\n",
      "869         0  happy dance sing think done injury gone praise...\n",
      "      cluster                                               para\n",
      "1731        1  crash din came voices giant maidens loudly cha...\n",
      "4025        1  interval bab employed much satisfaction cross ...\n",
      "619         1  letter could read without putting anne glow mr...\n",
      "61          1  sir walter wise still experience enough world ...\n",
      "5163        1  answered de grey calmly hope persuade rather c...\n",
      "5135        1                       done everything could please\n",
      "2028        1          wish never thought berries growled buster\n",
      "2830        1       course secretary branch told everything told\n",
      "3709        1  fruit woman stall gate inn yard peeping gate y...\n",
      "3521        1  secretary started stood crushing costly robe hand\n",
      "      cluster                                               para\n",
      "2655        2                   degrees seriousness replied syme\n",
      "2679        2                quite said syme placidly kind screw\n",
      "2966        2                      syme struck table exclamation\n",
      "3028        2  lush said syme shaking head sagaciously must l...\n",
      "2706        2                               yes said syme secret\n",
      "3087        2  blue devils blue hell said syme contributed bl...\n",
      "2953        2         answered syme went agony ecstatic reaction\n",
      "2982        2                           said syme equal decision\n",
      "2779        2  almost act stepping board gabriel syme turned ...\n",
      "2978        2           shall see falling star said syme put hat\n",
      "      cluster                                               para\n",
      "3694        3       know said jem laughing seem happy eightpence\n",
      "5505        3  explain pleasure far know fault father clevere...\n",
      "7519        3  know soul dost thou blank us waits undream reg...\n",
      "4311        3  pigeon home long father come kitchen window li...\n",
      "5882        3  servant confounded half intoxicated could stam...\n",
      "7205        3  know earth gross tantalizing wicked sake take ...\n",
      "1161        3   long way go hill little red hen still dizzy know\n",
      "7651        3  spirit form scene tumbled rock piles grim red ...\n",
      "7537        3  music always round unceasing unbeginning yet l...\n",
      "4333        3                          rosamond paused said know\n",
      "      cluster                                               para\n",
      "5126        4  archer expected constant supply provisions two...\n",
      "3984        4               shall stop day said philip mind play\n",
      "2151        4  afraid put clearly alice replied politely unde...\n",
      "4610        4  maurice put tulip beginning blow flower pot to...\n",
      "6183        4  one world aware far largest whether come day t...\n",
      "3650        4  yes said man dropped amongst heap rubbish fine...\n",
      "4336        4                  well mamma day morrow show drawer\n",
      "7813        4  full grown poet came spake pleased nature roun...\n",
      "1798        4  one day forty years great longing know far alo...\n",
      "129         4  folks great house spend evening day cottage la...\n",
      "      cluster                                               para\n",
      "1387        5  oh said king solomon case otter killed otter c...\n",
      "4385        5  well said laura coolly want need violent assur...\n",
      "5483        5  right meddle board said piedro put guard usual...\n",
      "2570        5                         oldest rule book said king\n",
      "5773        5          sure wrong said hardy recollecting except\n",
      "1512        5                       father kissed said certainly\n",
      "2552        5  well must must king said melancholy air foldin...\n",
      "4750        5  would trust blindness said father stroking hea...\n",
      "1422        5  said said brahmin raising voice think fair tig...\n",
      "2764        5  amendment usual put first said mr buttons chai...\n",
      "      cluster                                               para\n",
      "2121        6  time found way tidy little room table window h...\n",
      "7643        6  battle bulletin indian ambuscade craft fatal e...\n",
      "1498        6  death begged song time little nightingale obta...\n",
      "846         6                      lost desert wild little child\n",
      "7823        6  forgotten wrapt little potencies progress poli...\n",
      "1499        6  death gone emperor said little nightingale oh ...\n",
      "5541        6  arthur could especially spoke wretched italian...\n",
      "5596        6  banished little wood market stealing rosetta b...\n",
      "404         6  musgroves came back receive happy boys girls s...\n",
      "994         6  little red hen farmyard chickens found grain w...\n",
      "      cluster                                               para\n",
      "4860        7  sophy whose taste cultivated time powers reaso...\n",
      "7477        7  soul always beautiful universe duly order ever...\n",
      "6042        7           see projected time audience interminable\n",
      "4472        7    farmer looks shoulder time time speech contempt\n",
      "1763        7  long time ago boy named david lived country fa...\n",
      "7239        7  see mother full spanning eye gazes forth dwell...\n",
      "1488        7           long time went last emperor grew ill die\n",
      "6210        7  many long dumb voices voices interminable gene...\n",
      "1797        7                       legend hermit lived long ago\n",
      "386         7  mary evils upon whole evident staying long fou...\n",
      "      cluster                                               para\n",
      "6698        8  furnace anvil behold thy sturdy blacksmiths sw...\n",
      "3348        8  spoke came long crackle musketry bullets seeme...\n",
      "2250        8                   like much said alice invited yet\n",
      "2540        8                       glad seen done thought alice\n",
      "5175        8  townsend said archer may look like wit never hero\n",
      "2340        8  first came ten soldiers carrying clubs shaped ...\n",
      "2236        8                               much care said alice\n",
      "3437        8  turned eyes balloon swung swelled exhibition s...\n",
      "1293        8  little louisa told wrote verses stories diary ...\n",
      "2053        8  rabbit hole went straight like tunnel way dipp...\n",
      "      cluster                                               para\n",
      "712         9  good soul cried captain harville putting hand ...\n",
      "5672        9  value handsome portion furniture plate etc cou...\n",
      "3699        9                         shall good things said jem\n",
      "6127        9  pass death dying birth new wash babe contain h...\n",
      "5924        9                    caes good friends go taste wine\n",
      "5514        9         dear good humoured little rosetta happened\n",
      "5426        9         bless good boy take englishman way dealing\n",
      "4272        9  good news farmer price employed collect rents ...\n",
      "3288        9    bull boiling good sense optimism broke suddenly\n",
      "3956        9  pay damages queen susan good bye pretty guinea...\n",
      "Empty DataFrame\n",
      "Columns: [cluster, para]\n",
      "Index: []\n"
     ]
    }
   ],
   "source": [
    "cluster_df = pd.DataFrame({'para':X_test, 'cluster':Y_pred_test})\n",
    "for clust in np.arange(0,11,1):\n",
    "    print(cluster_df[cluster_df['cluster'] == clust].head(10))"
   ]
  },
  {
   "cell_type": "code",
   "execution_count": 163,
   "metadata": {},
   "outputs": [
    {
     "data": {
      "text/plain": [
       "0.14438233026647196"
      ]
     },
     "execution_count": 163,
     "metadata": {},
     "output_type": "execute_result"
    }
   ],
   "source": [
    "metrics.adjusted_rand_score(Y_test.values, Y_pred_test)"
   ]
  },
  {
   "cell_type": "markdown",
   "metadata": {},
   "source": [
    "Not bad, definitely some overlapping clusters, but they do still to cluster based on common words/themese.\n",
    "Also, like the train group, the test group is better at clustering certain authors (whitman and chesteron) than others. \n",
    "Maybe in the future, I would want to remove edgeworth, or only take a sample of his text."
   ]
  },
  {
   "cell_type": "markdown",
   "metadata": {
    "collapsed": true
   },
   "source": [
    "## Supervisedddd!\n",
    "\n",
    "Going to use the tfidf first, as well as the lsa of tfidf. Then going to try BOW\n",
    "\n",
    "### rfc"
   ]
  },
  {
   "cell_type": "code",
   "execution_count": 167,
   "metadata": {},
   "outputs": [
    {
     "name": "stdout",
     "output_type": "stream",
     "text": [
      "Training set score: 0.992515733968\n",
      "\n",
      "Test set score: 0.629591836735\n"
     ]
    }
   ],
   "source": [
    "from sklearn.model_selection import cross_val_score\n",
    "\n",
    "\n",
    "rfc = ensemble.RandomForestClassifier()\n",
    "train = rfc.fit(X_train_lsa,Y_train)\n",
    "\n",
    "print('Training set score:', rfc.score(X_train_lsa,Y_train))\n",
    "print('\\nTest set score:', rfc.score(X_test_lsa, Y_test))\n"
   ]
  },
  {
   "cell_type": "code",
   "execution_count": 168,
   "metadata": {},
   "outputs": [
    {
     "name": "stdout",
     "output_type": "stream",
     "text": [
      "Training set score: 0.990984861371\n",
      "\n",
      "Test set score: 0.735714285714\n"
     ]
    }
   ],
   "source": [
    "#try tdidf and not lsa\n",
    "rfc = ensemble.RandomForestClassifier()\n",
    "train = rfc.fit(X_train_tfidf,Y_train)\n",
    "\n",
    "print('Training set score:', rfc.score(X_train_tfidf,Y_train))\n",
    "print('\\nTest set score:', rfc.score(X_test_tfidf, Y_test))"
   ]
  },
  {
   "cell_type": "markdown",
   "metadata": {
    "collapsed": true
   },
   "source": [
    "better!!! LETS TRY BOW"
   ]
  },
  {
   "cell_type": "code",
   "execution_count": 182,
   "metadata": {},
   "outputs": [],
   "source": [
    "X = df['text']\n",
    "Y = df['author']\n",
    "\n",
    "vectorizer = TfidfVectorizer(max_df=0.6, # drop words that occur in more than 60% of paragraphs\n",
    "                             min_df=6, # only use words that appear at least 3x\n",
    "                             stop_words='english', # mostly redundant, but it's ok \n",
    "                             lowercase=True, #convert everything to lower case (since Alice in Wonderland has the HABIT of CAPITALIZING WORDS for EMPHASIS)\n",
    "                             use_idf=False,#we definitely want to use inverse document frequencies in our weighting\n",
    "                             norm=u'l2', #Starting with L2 regularization\n",
    "                             smooth_idf=True #Prevents divide-by-zero errors\n",
    "                            )\n",
    "\n",
    "#Applying the vectorizer\n",
    "sentence_bow= vectorizer.fit_transform(X)\n",
    "\n",
    "\n",
    "#splitting into training and test sets. Reserving 25% of my corpus as a test set.\n",
    "X_train_bow, X_test_bow, Y_train, Y_test = train_test_split(sentence_bow, \n",
    "                                                                Y,\n",
    "                                                                test_size=0.25,\n",
    "                                                                random_state=12)\n",
    "\n"
   ]
  },
  {
   "cell_type": "code",
   "execution_count": 183,
   "metadata": {},
   "outputs": [
    {
     "name": "stdout",
     "output_type": "stream",
     "text": [
      "Percent variance captured by all components: 32.5625447813\n"
     ]
    }
   ],
   "source": [
    "svd= TruncatedSVD(100)\n",
    "lsa = make_pipeline(svd, Normalizer(copy=False))\n",
    "# Run SVD on the training data, then project the training data.\n",
    "X_train_lsa_bow = lsa.fit_transform(X_train_bow)\n",
    "#creating test lsa group for later\n",
    "X_test_lsa_bow = lsa.transform(X_test_bow)\n",
    "\n",
    "variance_explained=svd.explained_variance_ratio_\n",
    "total_variance = variance_explained.sum()\n",
    "print(\"Percent variance captured by all components:\",total_variance*100)"
   ]
  },
  {
   "cell_type": "code",
   "execution_count": 171,
   "metadata": {},
   "outputs": [
    {
     "name": "stdout",
     "output_type": "stream",
     "text": [
      "Training set score: 0.988603503997\n",
      "\n",
      "Test set score: 0.73112244898\n"
     ]
    }
   ],
   "source": [
    "\n",
    "rfc = ensemble.RandomForestClassifier()\n",
    "train = rfc.fit(X_train_bow,Y_train)\n",
    "\n",
    "print('Training set score:', rfc.score(X_train_bow,Y_train))\n",
    "print('\\nTest set score:', rfc.score(X_test_bow, Y_test))"
   ]
  },
  {
   "cell_type": "markdown",
   "metadata": {
    "collapsed": true
   },
   "source": [
    "Slight improvment. I can try tweaking the params of rfc, lets try that before moving on to other models. \n",
    "GRID SEARCH!"
   ]
  },
  {
   "cell_type": "code",
   "execution_count": 78,
   "metadata": {},
   "outputs": [
    {
     "name": "stdout",
     "output_type": "stream",
     "text": [
      "Best Score:  0.605375063786\n",
      "Best Parameters:  {'max_depth': 20, 'min_samples_split': 10, 'n_estimators': 100}\n"
     ]
    }
   ],
   "source": [
    "from sklearn.model_selection import GridSearchCV\n",
    "param_search = [{'n_estimators': [2,5,10,20,100],\n",
    "          'max_depth': [3,6,15,20],\n",
    "          'min_samples_split':[2,6,10,15,20]}]\n",
    "\n",
    "\n",
    "# Initialize and fit the model.\n",
    "rfc_grid = GridSearchCV(ensemble.RandomForestClassifier(), param_grid=param_search,cv=5)\n",
    "\n",
    "rfc_grid.fit(X_train_bow,Y_train)\n",
    "\n",
    "print('Best Score: ', rfc_grid.best_score_)\n",
    "print('Best Parameters: ', rfc_grid.best_params_)"
   ]
  },
  {
   "cell_type": "code",
   "execution_count": 174,
   "metadata": {},
   "outputs": [
    {
     "name": "stdout",
     "output_type": "stream",
     "text": [
      "Training set score: 0.640925327437\n",
      "\n",
      "Test set score: 0.623469387755\n"
     ]
    }
   ],
   "source": [
    "\n",
    "rfc = ensemble.RandomForestClassifier(n_estimators= 100, max_depth = 20, min_samples_split = 10)\n",
    "rfc.fit(X_train_bow,Y_train)\n",
    "\n",
    "print('Training set score:', rfc.score(X_train_bow,Y_train))\n",
    "print('\\nTest set score:', rfc.score(X_test_bow, Y_test))\n",
    "\n"
   ]
  },
  {
   "cell_type": "markdown",
   "metadata": {
    "collapsed": true
   },
   "source": [
    "Correcting the overfitting but at the sake of some accuracy. Lets try log"
   ]
  },
  {
   "cell_type": "markdown",
   "metadata": {},
   "source": [
    "### logisticccc"
   ]
  },
  {
   "cell_type": "code",
   "execution_count": 175,
   "metadata": {},
   "outputs": [
    {
     "name": "stdout",
     "output_type": "stream",
     "text": [
      "Training set score: 0.740091852356\n",
      "\n",
      "Test set score: 0.723469387755\n"
     ]
    }
   ],
   "source": [
    "#logistic\n",
    "from sklearn.linear_model import LogisticRegression\n",
    "lr =  LogisticRegression()\n",
    "lr.fit(X_train_lsa, Y_train)\n",
    "\n",
    "print('Training set score:', lr.score(X_train_lsa,Y_train))\n",
    "print('\\nTest set score:', lr.score(X_test_lsa, Y_test))\n",
    "\n"
   ]
  },
  {
   "cell_type": "code",
   "execution_count": 176,
   "metadata": {},
   "outputs": [
    {
     "name": "stdout",
     "output_type": "stream",
     "text": [
      "Training set score: 0.860350399728\n",
      "\n",
      "Test set score: 0.783673469388\n"
     ]
    }
   ],
   "source": [
    "#logistic with tdidf\n",
    "from sklearn.linear_model import LogisticRegression\n",
    "lr =  LogisticRegression()\n",
    "lr.fit(X_train_tfidf, Y_train)\n",
    "\n",
    "print('Training set score:', lr.score(X_train_tfidf,Y_train))\n",
    "print('\\nTest set score:', lr.score(X_test_tfidf, Y_test))\n",
    "\n"
   ]
  },
  {
   "cell_type": "code",
   "execution_count": 177,
   "metadata": {},
   "outputs": [
    {
     "name": "stdout",
     "output_type": "stream",
     "text": [
      "Training set score: 0.836877019901\n",
      "\n",
      "Test set score: 0.76887755102\n"
     ]
    }
   ],
   "source": [
    "#logistic with bow\n",
    "from sklearn.linear_model import LogisticRegression\n",
    "lr =  LogisticRegression()\n",
    "lr.fit(X_train_bow, Y_train)\n",
    "\n",
    "print('Training set score:', lr.score(X_train_bow,Y_train))\n",
    "print('\\nTest set score:', lr.score(X_test_bow, Y_test))\n"
   ]
  },
  {
   "cell_type": "markdown",
   "metadata": {
    "collapsed": true
   },
   "source": [
    "tfidf and bow are pretty similar. A little overfitting, but let's try tweaking bow with grid search. "
   ]
  },
  {
   "cell_type": "code",
   "execution_count": 106,
   "metadata": {},
   "outputs": [
    {
     "name": "stdout",
     "output_type": "stream",
     "text": [
      "Best Score:  0.801156659296\n",
      "Best Parameters:  {'C': 100, 'penalty': 'l2'}\n"
     ]
    }
   ],
   "source": [
    "param_search = [{'penalty':('l1', 'l2'),\n",
    "                 'C':(.001, .01, .1, 1, 100)}]\n",
    "\n",
    "\n",
    "# Initialize and fit the model.\n",
    "lr_grid = GridSearchCV(LogisticRegression(), param_grid=param_search,cv=5)\n",
    "\n",
    "lr_grid.fit(X_train_bow,Y_train)\n",
    "\n",
    "print('Best Score: ', lr_grid.best_score_)\n",
    "print('Best Parameters: ', lr_grid.best_params_)"
   ]
  },
  {
   "cell_type": "code",
   "execution_count": 178,
   "metadata": {},
   "outputs": [
    {
     "name": "stdout",
     "output_type": "stream",
     "text": [
      "Training set score: 0.996938254805\n",
      "\n",
      "Test set score: 0.81887755102\n"
     ]
    }
   ],
   "source": [
    "lr =  LogisticRegression(C=100, penalty='l2')\n",
    "lr.fit(X_train_bow, Y_train)\n",
    "\n",
    "print('Training set score:', lr.score(X_train_bow,Y_train))\n",
    "print('\\nTest set score:', lr.score(X_test_bow, Y_test))\n"
   ]
  },
  {
   "cell_type": "code",
   "execution_count": 110,
   "metadata": {},
   "outputs": [
    {
     "name": "stdout",
     "output_type": "stream",
     "text": [
      "Best Score:  0.733798265011\n",
      "Best Parameters:  {'C': 100, 'penalty': 'l1'}\n"
     ]
    }
   ],
   "source": [
    "#Going to try tuning with lsa of tfidf\n",
    "\n",
    "param_search = [{'penalty':('l1', 'l2'),\n",
    "                 'C':(.001, .01, .1, 1, 100)}]\n",
    "\n",
    "\n",
    "\n",
    "# Initialize and fit the model.\n",
    "lr_grid = GridSearchCV(LogisticRegression(), param_grid=param_search,cv=5)\n",
    "\n",
    "lr_grid.fit(X_train_lsa,Y_train)\n",
    "\n",
    "print('Best Score: ', lr_grid.best_score_)\n",
    "print('Best Parameters: ', lr_grid.best_params_)"
   ]
  },
  {
   "cell_type": "code",
   "execution_count": 180,
   "metadata": {},
   "outputs": [
    {
     "name": "stdout",
     "output_type": "stream",
     "text": [
      "Training set score: 0.774451437319\n",
      "\n",
      "Test set score: 0.745918367347\n"
     ]
    }
   ],
   "source": [
    "#lsa of tfidf\n",
    "lr =  LogisticRegression(C=100, penalty='l1')\n",
    "lr.fit(X_train_lsa, Y_train)\n",
    "\n",
    "print('Training set score:', lr.score(X_train_lsa,Y_train))\n",
    "print('\\nTest set score:', lr.score(X_test_lsa, Y_test))\n"
   ]
  },
  {
   "cell_type": "markdown",
   "metadata": {
    "collapsed": true
   },
   "source": [
    "NOT BAD, I might want to stick with this, but going to try the lsa of bow just to see. "
   ]
  },
  {
   "cell_type": "code",
   "execution_count": 116,
   "metadata": {},
   "outputs": [
    {
     "name": "stdout",
     "output_type": "stream",
     "text": [
      "Best Score:  0.687361796224\n",
      "Best Parameters:  {'C': 100, 'penalty': 'l1'}\n"
     ]
    }
   ],
   "source": [
    "#Going to try with lsa\n",
    "\n",
    "param_search = [{'penalty':('l1', 'l2'),\n",
    "                 'C':(.001, .01, .1, 1, 100)}]\n",
    "\n",
    "\n",
    "\n",
    "# Initialize and fit the model.\n",
    "lr_grid = GridSearchCV(LogisticRegression(), param_grid=param_search,cv=5)\n",
    "\n",
    "lr_grid.fit(X_train_lsa,Y_train)\n",
    "\n",
    "print('Best Score: ', lr_grid.best_score_)\n",
    "print('Best Parameters: ', lr_grid.best_params_)"
   ]
  },
  {
   "cell_type": "code",
   "execution_count": 184,
   "metadata": {},
   "outputs": [
    {
     "name": "stdout",
     "output_type": "stream",
     "text": [
      "Training set score: 0.724953223337\n",
      "\n",
      "Test set score: 0.701020408163\n"
     ]
    }
   ],
   "source": [
    "\n",
    "lr =  LogisticRegression(C=100, penalty='l1')\n",
    "lr.fit(X_train_lsa_bow, Y_train)\n",
    "\n",
    "print('Training set score:', lr.score(X_train_lsa_bow,Y_train))\n",
    "print('\\nTest set score:', lr.score(X_test_lsa_bow, Y_test))\n"
   ]
  },
  {
   "cell_type": "markdown",
   "metadata": {},
   "source": [
    "Not as good. In terms of log, performing lsa on tfidf vecotized docs is best. Let's try one more model\n",
    "### SVC"
   ]
  },
  {
   "cell_type": "code",
   "execution_count": 76,
   "metadata": {},
   "outputs": [
    {
     "name": "stdout",
     "output_type": "stream",
     "text": [
      "Training set score: 0.679197142371\n",
      "\n",
      "Test set score: 0.637244897959\n"
     ]
    }
   ],
   "source": [
    "from  sklearn.svm  import SVC\n",
    "svc = SVC(kernel='linear')\n",
    "svc_model = svc.fit(X_train_lsa,Y_train)\n",
    "\n",
    "\n",
    "print('Training set score:', svc_model.score(X_train_lsa,Y_train))\n",
    "print('\\nTest set score:', lr.score(X_test_lsa, Y_test))"
   ]
  },
  {
   "cell_type": "code",
   "execution_count": 77,
   "metadata": {},
   "outputs": [
    {
     "name": "stdout",
     "output_type": "stream",
     "text": [
      "Best Score:  0.69144412315\n",
      "Best Parameters:  {'C': 100, 'kernel': 'linear'}\n"
     ]
    }
   ],
   "source": [
    "from sklearn.model_selection import GridSearchCV\n",
    "param_search = [{'kernel':('rbf', 'linear', 'poly'),\n",
    "                 'C':(.001, .01, .1, 1, 100)}]\n",
    "\n",
    "\n",
    "\n",
    "# Initialize and fit the model.\n",
    "svc_grid = GridSearchCV(SVC(), param_grid=param_search,cv=5)\n",
    "\n",
    "svc_grid.fit(X_train_lsa,Y_train)\n",
    "\n",
    "print('Best Score: ', svc_grid.best_score_)\n",
    "print('Best Parameters: ', svc_grid.best_params_)"
   ]
  },
  {
   "cell_type": "markdown",
   "metadata": {},
   "source": [
    "Nope, let's stick with the logistic model using lsa of tfidf. "
   ]
  },
  {
   "cell_type": "markdown",
   "metadata": {
    "collapsed": true
   },
   "source": [
    "# Conclusion\n",
    "\n",
    "When compring clutering and modeling with the ability to accurately classify the text, I would say modeling easily out performs clustering. The clustering results were inconsistent, and there was some overlap. They seemed to cluster more on common words and themes than by authors. However, it still does reasonably well, and likely better had I used authors with similar number of paragrpahs. I could also try some additional feature engineering, removing the more common words, and numeric types, as well as excluding paragraphs above or below a certain length. \n",
    "\n",
    "The modeling does much better and was more conisntent. Using a log regression model on tfidf vectorization with LSA produced the best results. I didn't play with paragraph length as much, but that is something to look into. I also only used 100 comps, due to performance time, but using more might be better, in explaining more vairance. Overall, great exervise\n"
   ]
  },
  {
   "cell_type": "code",
   "execution_count": null,
   "metadata": {
    "collapsed": true
   },
   "outputs": [],
   "source": []
  }
 ],
 "metadata": {
  "kernelspec": {
   "display_name": "Python 3",
   "language": "python",
   "name": "python3"
  },
  "language_info": {
   "codemirror_mode": {
    "name": "ipython",
    "version": 3
   },
   "file_extension": ".py",
   "mimetype": "text/x-python",
   "name": "python",
   "nbconvert_exporter": "python",
   "pygments_lexer": "ipython3",
   "version": "3.6.1"
  }
 },
 "nbformat": 4,
 "nbformat_minor": 2
}
